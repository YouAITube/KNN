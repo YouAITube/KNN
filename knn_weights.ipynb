{
  "nbformat": 4,
  "nbformat_minor": 0,
  "metadata": {
    "colab": {
      "provenance": []
    },
    "kernelspec": {
      "name": "python3",
      "display_name": "Python 3"
    },
    "language_info": {
      "name": "python"
    },
    "widgets": {
      "application/vnd.jupyter.widget-state+json": {
        "c8ae3194c2d043aeb601db4c80461e52": {
          "model_module": "@jupyter-widgets/controls",
          "model_name": "VBoxModel",
          "model_module_version": "1.5.0",
          "state": {
            "_dom_classes": [
              "widget-interact"
            ],
            "_model_module": "@jupyter-widgets/controls",
            "_model_module_version": "1.5.0",
            "_model_name": "VBoxModel",
            "_view_count": null,
            "_view_module": "@jupyter-widgets/controls",
            "_view_module_version": "1.5.0",
            "_view_name": "VBoxView",
            "box_style": "",
            "children": [
              "IPY_MODEL_3e80bc1a481740deb3190b3fc0afc985",
              "IPY_MODEL_fd27749a530e44d19628dadd1ab6d4f1",
              "IPY_MODEL_f580d4ebd3fa4b71a414dfd1ee42390d"
            ],
            "layout": "IPY_MODEL_9ca62df900c64352bbc79dfb8c467cb1"
          }
        },
        "3e80bc1a481740deb3190b3fc0afc985": {
          "model_module": "@jupyter-widgets/controls",
          "model_name": "IntSliderModel",
          "model_module_version": "1.5.0",
          "state": {
            "_dom_classes": [],
            "_model_module": "@jupyter-widgets/controls",
            "_model_module_version": "1.5.0",
            "_model_name": "IntSliderModel",
            "_view_count": null,
            "_view_module": "@jupyter-widgets/controls",
            "_view_module_version": "1.5.0",
            "_view_name": "IntSliderView",
            "continuous_update": true,
            "description": "N",
            "description_tooltip": null,
            "disabled": false,
            "layout": "IPY_MODEL_f3155552f3b4420486db9a1df50d1522",
            "max": 250,
            "min": 50,
            "orientation": "horizontal",
            "readout": true,
            "readout_format": "d",
            "step": 25,
            "style": "IPY_MODEL_887774f8d68c4c2ca321293246de9b67",
            "value": 100
          }
        },
        "fd27749a530e44d19628dadd1ab6d4f1": {
          "model_module": "@jupyter-widgets/controls",
          "model_name": "FloatSliderModel",
          "model_module_version": "1.5.0",
          "state": {
            "_dom_classes": [],
            "_model_module": "@jupyter-widgets/controls",
            "_model_module_version": "1.5.0",
            "_model_name": "FloatSliderModel",
            "_view_count": null,
            "_view_module": "@jupyter-widgets/controls",
            "_view_module_version": "1.5.0",
            "_view_name": "FloatSliderView",
            "continuous_update": true,
            "description": "Noise",
            "description_tooltip": null,
            "disabled": false,
            "layout": "IPY_MODEL_b9a50b5c703642ce9ba375b8a2c84fbb",
            "max": 50,
            "min": 0,
            "orientation": "horizontal",
            "readout": true,
            "readout_format": ".2f",
            "step": 5,
            "style": "IPY_MODEL_fc191e94ba5346d69f160f1352bcb437",
            "value": 10
          }
        },
        "f580d4ebd3fa4b71a414dfd1ee42390d": {
          "model_module": "@jupyter-widgets/output",
          "model_name": "OutputModel",
          "model_module_version": "1.0.0",
          "state": {
            "_dom_classes": [],
            "_model_module": "@jupyter-widgets/output",
            "_model_module_version": "1.0.0",
            "_model_name": "OutputModel",
            "_view_count": null,
            "_view_module": "@jupyter-widgets/output",
            "_view_module_version": "1.0.0",
            "_view_name": "OutputView",
            "layout": "IPY_MODEL_76b1bd03945a498aaf1ec86cba550f75",
            "msg_id": "",
            "outputs": [
              {
                "output_type": "display_data",
                "data": {
                  "text/plain": "<Figure size 1000x400 with 1 Axes>",
                  "image/png": "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\n"
                },
                "metadata": {}
              }
            ]
          }
        },
        "9ca62df900c64352bbc79dfb8c467cb1": {
          "model_module": "@jupyter-widgets/base",
          "model_name": "LayoutModel",
          "model_module_version": "1.2.0",
          "state": {
            "_model_module": "@jupyter-widgets/base",
            "_model_module_version": "1.2.0",
            "_model_name": "LayoutModel",
            "_view_count": null,
            "_view_module": "@jupyter-widgets/base",
            "_view_module_version": "1.2.0",
            "_view_name": "LayoutView",
            "align_content": null,
            "align_items": null,
            "align_self": null,
            "border": null,
            "bottom": null,
            "display": null,
            "flex": null,
            "flex_flow": null,
            "grid_area": null,
            "grid_auto_columns": null,
            "grid_auto_flow": null,
            "grid_auto_rows": null,
            "grid_column": null,
            "grid_gap": null,
            "grid_row": null,
            "grid_template_areas": null,
            "grid_template_columns": null,
            "grid_template_rows": null,
            "height": null,
            "justify_content": null,
            "justify_items": null,
            "left": null,
            "margin": null,
            "max_height": null,
            "max_width": null,
            "min_height": null,
            "min_width": null,
            "object_fit": null,
            "object_position": null,
            "order": null,
            "overflow": null,
            "overflow_x": null,
            "overflow_y": null,
            "padding": null,
            "right": null,
            "top": null,
            "visibility": null,
            "width": null
          }
        },
        "f3155552f3b4420486db9a1df50d1522": {
          "model_module": "@jupyter-widgets/base",
          "model_name": "LayoutModel",
          "model_module_version": "1.2.0",
          "state": {
            "_model_module": "@jupyter-widgets/base",
            "_model_module_version": "1.2.0",
            "_model_name": "LayoutModel",
            "_view_count": null,
            "_view_module": "@jupyter-widgets/base",
            "_view_module_version": "1.2.0",
            "_view_name": "LayoutView",
            "align_content": null,
            "align_items": null,
            "align_self": null,
            "border": null,
            "bottom": null,
            "display": null,
            "flex": null,
            "flex_flow": null,
            "grid_area": null,
            "grid_auto_columns": null,
            "grid_auto_flow": null,
            "grid_auto_rows": null,
            "grid_column": null,
            "grid_gap": null,
            "grid_row": null,
            "grid_template_areas": null,
            "grid_template_columns": null,
            "grid_template_rows": null,
            "height": null,
            "justify_content": null,
            "justify_items": null,
            "left": null,
            "margin": null,
            "max_height": null,
            "max_width": null,
            "min_height": null,
            "min_width": null,
            "object_fit": null,
            "object_position": null,
            "order": null,
            "overflow": null,
            "overflow_x": null,
            "overflow_y": null,
            "padding": null,
            "right": null,
            "top": null,
            "visibility": null,
            "width": null
          }
        },
        "887774f8d68c4c2ca321293246de9b67": {
          "model_module": "@jupyter-widgets/controls",
          "model_name": "SliderStyleModel",
          "model_module_version": "1.5.0",
          "state": {
            "_model_module": "@jupyter-widgets/controls",
            "_model_module_version": "1.5.0",
            "_model_name": "SliderStyleModel",
            "_view_count": null,
            "_view_module": "@jupyter-widgets/base",
            "_view_module_version": "1.2.0",
            "_view_name": "StyleView",
            "description_width": "",
            "handle_color": null
          }
        },
        "b9a50b5c703642ce9ba375b8a2c84fbb": {
          "model_module": "@jupyter-widgets/base",
          "model_name": "LayoutModel",
          "model_module_version": "1.2.0",
          "state": {
            "_model_module": "@jupyter-widgets/base",
            "_model_module_version": "1.2.0",
            "_model_name": "LayoutModel",
            "_view_count": null,
            "_view_module": "@jupyter-widgets/base",
            "_view_module_version": "1.2.0",
            "_view_name": "LayoutView",
            "align_content": null,
            "align_items": null,
            "align_self": null,
            "border": null,
            "bottom": null,
            "display": null,
            "flex": null,
            "flex_flow": null,
            "grid_area": null,
            "grid_auto_columns": null,
            "grid_auto_flow": null,
            "grid_auto_rows": null,
            "grid_column": null,
            "grid_gap": null,
            "grid_row": null,
            "grid_template_areas": null,
            "grid_template_columns": null,
            "grid_template_rows": null,
            "height": null,
            "justify_content": null,
            "justify_items": null,
            "left": null,
            "margin": null,
            "max_height": null,
            "max_width": null,
            "min_height": null,
            "min_width": null,
            "object_fit": null,
            "object_position": null,
            "order": null,
            "overflow": null,
            "overflow_x": null,
            "overflow_y": null,
            "padding": null,
            "right": null,
            "top": null,
            "visibility": null,
            "width": null
          }
        },
        "fc191e94ba5346d69f160f1352bcb437": {
          "model_module": "@jupyter-widgets/controls",
          "model_name": "SliderStyleModel",
          "model_module_version": "1.5.0",
          "state": {
            "_model_module": "@jupyter-widgets/controls",
            "_model_module_version": "1.5.0",
            "_model_name": "SliderStyleModel",
            "_view_count": null,
            "_view_module": "@jupyter-widgets/base",
            "_view_module_version": "1.2.0",
            "_view_name": "StyleView",
            "description_width": "",
            "handle_color": null
          }
        },
        "76b1bd03945a498aaf1ec86cba550f75": {
          "model_module": "@jupyter-widgets/base",
          "model_name": "LayoutModel",
          "model_module_version": "1.2.0",
          "state": {
            "_model_module": "@jupyter-widgets/base",
            "_model_module_version": "1.2.0",
            "_model_name": "LayoutModel",
            "_view_count": null,
            "_view_module": "@jupyter-widgets/base",
            "_view_module_version": "1.2.0",
            "_view_name": "LayoutView",
            "align_content": null,
            "align_items": null,
            "align_self": null,
            "border": null,
            "bottom": null,
            "display": null,
            "flex": null,
            "flex_flow": null,
            "grid_area": null,
            "grid_auto_columns": null,
            "grid_auto_flow": null,
            "grid_auto_rows": null,
            "grid_column": null,
            "grid_gap": null,
            "grid_row": null,
            "grid_template_areas": null,
            "grid_template_columns": null,
            "grid_template_rows": null,
            "height": null,
            "justify_content": null,
            "justify_items": null,
            "left": null,
            "margin": null,
            "max_height": null,
            "max_width": null,
            "min_height": null,
            "min_width": null,
            "object_fit": null,
            "object_position": null,
            "order": null,
            "overflow": null,
            "overflow_x": null,
            "overflow_y": null,
            "padding": null,
            "right": null,
            "top": null,
            "visibility": null,
            "width": null
          }
        }
      }
    }
  },
  "cells": [
    {
      "cell_type": "code",
      "execution_count": 34,
      "metadata": {
        "id": "WKO6CixFDLAA"
      },
      "outputs": [],
      "source": [
        "import matplotlib.pyplot as plt\n",
        "from sklearn.datasets import make_regression\n",
        "import ipywidgets as widgets\n",
        "from ipywidgets import interact\n",
        "import seaborn as sns\n",
        "import numpy as np\n",
        "import pandas as pd\n",
        "from sklearn.metrics import r2_score"
      ]
    },
    {
      "cell_type": "code",
      "source": [
        "import numpy as np\n",
        "import matplotlib.pyplot as plt\n",
        "from sklearn.datasets import make_regression\n",
        "import ipywidgets as widgets\n",
        "from ipywidgets import interact\n",
        "\n",
        "# Function to generate and plot the data\n",
        "def generate_regression_data(N, noise):\n",
        "    # Generate regression data with a linear relationship\n",
        "    X, y = make_regression(n_samples=N, n_features=1, noise=noise, random_state=42)\n",
        "    return X, y\n",
        "\n",
        "def plot_regression(N, noise):\n",
        "    # Generate the data\n",
        "    X, y = generate_regression_data(N, noise)\n",
        "    # Create a figure\n",
        "    plt.figure(figsize=(10, 4))\n",
        "    # Create a scatter plot of X vs y to show the regression line relationship\n",
        "    plt.scatter(X, y, c='g')\n",
        "    plt.title('Regression Data Set')\n",
        "    plt.xlabel('Feature 1')\n",
        "    plt.ylabel('Target')\n",
        "    plt.grid(True)\n",
        "    # Show the plot\n",
        "    plt.show()\n",
        "\n",
        "# Create interactive widgets\n",
        "N_slider = widgets.IntSlider(value=100, min=50, max=250, step=25, description='N')\n",
        "noise_slider = widgets.FloatSlider(value=10, min=0, max=50, step=5, description='Noise')\n",
        "\n",
        "# Use interact to create an interactive plot\n",
        "interact(plot_regression, N=N_slider, noise=noise_slider)\n",
        "\n",
        "# Extract dataset for future use\n",
        "N_value = 50  # Number of samples\n",
        "noise_value = 10  # Noise level\n",
        "X, y = generate_regression_data(N=N_value, noise=noise_value)\n"
      ],
      "metadata": {
        "colab": {
          "base_uri": "https://localhost:8080/",
          "height": 474,
          "referenced_widgets": [
            "c8ae3194c2d043aeb601db4c80461e52",
            "3e80bc1a481740deb3190b3fc0afc985",
            "fd27749a530e44d19628dadd1ab6d4f1",
            "f580d4ebd3fa4b71a414dfd1ee42390d",
            "9ca62df900c64352bbc79dfb8c467cb1",
            "f3155552f3b4420486db9a1df50d1522",
            "887774f8d68c4c2ca321293246de9b67",
            "b9a50b5c703642ce9ba375b8a2c84fbb",
            "fc191e94ba5346d69f160f1352bcb437",
            "76b1bd03945a498aaf1ec86cba550f75"
          ]
        },
        "id": "8yG8MU2_I3oV",
        "outputId": "7600d571-4b2d-4325-d317-0e6b8807ed1e"
      },
      "execution_count": 20,
      "outputs": [
        {
          "output_type": "display_data",
          "data": {
            "text/plain": [
              "interactive(children=(IntSlider(value=100, description='N', max=250, min=50, step=25), FloatSlider(value=10.0,…"
            ],
            "application/vnd.jupyter.widget-view+json": {
              "version_major": 2,
              "version_minor": 0,
              "model_id": "c8ae3194c2d043aeb601db4c80461e52"
            }
          },
          "metadata": {}
        }
      ]
    },
    {
      "cell_type": "code",
      "source": [
        "y"
      ],
      "metadata": {
        "colab": {
          "base_uri": "https://localhost:8080/"
        },
        "id": "l7ULAjZ-KOHg",
        "outputId": "ef20afc2-9c7c-4fda-f99b-d9160486aca2"
      },
      "execution_count": 24,
      "outputs": [
        {
          "output_type": "execute_result",
          "data": {
            "text/plain": [
              "array([-19.06121027, -23.99713972,  12.38446082,   3.54215228,\n",
              "         7.17340131,  11.75778875,  21.8114842 ,  -8.09862036,\n",
              "         4.52978465,  -8.68203088,  18.35259248,  -7.18496288,\n",
              "        -8.39335261, -16.37208709, -12.38564307,  16.60613374,\n",
              "       -16.52096793, -13.80861872,  -5.37144719, -21.85917594,\n",
              "       -24.47137038,   5.26648553,  29.01315819, -19.17439723,\n",
              "        -9.53433087,  11.98808417,  -4.19606628,  54.37750422,\n",
              "        -5.62277799,   2.15808362,  -2.31182281,  12.82113365,\n",
              "       -13.06387543,  -3.03474791,   5.48449852,   9.14624925,\n",
              "       -27.73687531,  -4.54360873,   5.51456273,  18.07082383,\n",
              "         6.92900565,  -4.99873762, -15.54533985,   7.31389758,\n",
              "         0.8872496 , -33.04327665,  33.5401996 , -34.68656963,\n",
              "       -20.68679427,  -7.92153774])"
            ]
          },
          "metadata": {},
          "execution_count": 24
        }
      ]
    },
    {
      "cell_type": "code",
      "source": [
        "from sklearn.model_selection import train_test_split\n",
        "X_train, X_test, y_train, y_test = train_test_split(X,\n",
        "                                                    y,\n",
        "                                                    random_state=0,\n",
        "                                                    test_size=5)\n",
        "X_train.shape, X_test.shape"
      ],
      "metadata": {
        "colab": {
          "base_uri": "https://localhost:8080/"
        },
        "id": "l-oWRIWlD9Jd",
        "outputId": "db878f9f-7c0a-4f91-abc5-266a5239bd83"
      },
      "execution_count": 21,
      "outputs": [
        {
          "output_type": "execute_result",
          "data": {
            "text/plain": [
              "((45, 1), (5, 1))"
            ]
          },
          "metadata": {},
          "execution_count": 21
        }
      ]
    },
    {
      "cell_type": "code",
      "source": [
        "plt.figure(figsize=(6, 4))\n",
        "idx = 0\n",
        "test_dot = X_test[idx]\n",
        "plt.scatter(X_train, y_train, c='b', marker='o', s=10, label='train dots')\n",
        "plt.grid()\n",
        "plt.scatter(X_test[idx, 0], y_test[idx], c='g', marker='*', s=100, label='test dot')\n",
        "plt.xlabel('feature')\n",
        "plt.ylabel('target')\n",
        "plt.legend();"
      ],
      "metadata": {
        "colab": {
          "base_uri": "https://localhost:8080/",
          "height": 388
        },
        "id": "MtN_AKq3Kfij",
        "outputId": "5f537609-aded-4d93-c989-2297b6bc0c60"
      },
      "execution_count": 28,
      "outputs": [
        {
          "output_type": "display_data",
          "data": {
            "text/plain": [
              "<Figure size 600x400 with 1 Axes>"
            ],
            "image/png": "[encoded data removed]"
          },
          "metadata": {}
        }
      ]
    },
    {
      "cell_type": "markdown",
      "source": [
        "Recall that by default, a model with sklearn is trained with the weights=uniform attribute — this means that each neighbor is equally important and equally influences the final prediction of the model"
      ],
      "metadata": {
        "id": "6nojcIg4K7-E"
      }
    },
    {
      "cell_type": "code",
      "source": [
        "from sklearn.neighbors import KNeighborsRegressor\n",
        "help(KNeighborsRegressor)"
      ],
      "metadata": {
        "colab": {
          "base_uri": "https://localhost:8080/"
        },
        "id": "yV3bUqH2FEIu",
        "outputId": "b8ccad40-e92f-4b48-a341-08f4aea50bcb"
      },
      "execution_count": 30,
      "outputs": [
        {
          "output_type": "stream",
          "name": "stdout",
          "text": [
            "Help on class KNeighborsRegressor in module sklearn.neighbors._regression:\n",
            "\n",
            "class KNeighborsRegressor(sklearn.neighbors._base.KNeighborsMixin, sklearn.base.RegressorMixin, sklearn.neighbors._base.NeighborsBase)\n",
            " |  KNeighborsRegressor(n_neighbors=5, *, weights='uniform', algorithm='auto', leaf_size=30, p=2, metric='minkowski', metric_params=None, n_jobs=None)\n",
            " |  \n",
            " |  Regression based on k-nearest neighbors.\n",
            " |  \n",
            " |  The target is predicted by local interpolation of the targets\n",
            " |  associated of the nearest neighbors in the training set.\n",
            " |  \n",
            " |  Read more in the :ref:`User Guide <regression>`.\n",
            " |  \n",
            " |  .. versionadded:: 0.9\n",
            " |  \n",
            " |  Parameters\n",
            " |  ----------\n",
            " |  n_neighbors : int, default=5\n",
            " |      Number of neighbors to use by default for :meth:`kneighbors` queries.\n",
            " |  \n",
            " |  weights : {'uniform', 'distance'}, callable or None, default='uniform'\n",
            " |      Weight function used in prediction.  Possible values:\n",
            " |  \n",
            " |      - 'uniform' : uniform weights.  All points in each neighborhood\n",
            " |        are weighted equally.\n",
            " |      - 'distance' : weight points by the inverse of their distance.\n",
            " |        in this case, closer neighbors of a query point will have a\n",
            " |        greater influence than neighbors which are further away.\n",
            " |      - [callable] : a user-defined function which accepts an\n",
            " |        array of distances, and returns an array of the same shape\n",
            " |        containing the weights.\n",
            " |  \n",
            " |      Uniform weights are used by default.\n",
            " |  \n",
            " |  algorithm : {'auto', 'ball_tree', 'kd_tree', 'brute'}, default='auto'\n",
            " |      Algorithm used to compute the nearest neighbors:\n",
            " |  \n",
            " |      - 'ball_tree' will use :class:`BallTree`\n",
            " |      - 'kd_tree' will use :class:`KDTree`\n",
            " |      - 'brute' will use a brute-force search.\n",
            " |      - 'auto' will attempt to decide the most appropriate algorithm\n",
            " |        based on the values passed to :meth:`fit` method.\n",
            " |  \n",
            " |      Note: fitting on sparse input will override the setting of\n",
            " |      this parameter, using brute force.\n",
            " |  \n",
            " |  leaf_size : int, default=30\n",
            " |      Leaf size passed to BallTree or KDTree.  This can affect the\n",
            " |      speed of the construction and query, as well as the memory\n",
            " |      required to store the tree.  The optimal value depends on the\n",
            " |      nature of the problem.\n",
            " |  \n",
            " |  p : float, default=2\n",
            " |      Power parameter for the Minkowski metric. When p = 1, this is\n",
            " |      equivalent to using manhattan_distance (l1), and euclidean_distance\n",
            " |      (l2) for p = 2. For arbitrary p, minkowski_distance (l_p) is used.\n",
            " |  \n",
            " |  metric : str or callable, default='minkowski'\n",
            " |      Metric to use for distance computation. Default is \"minkowski\", which\n",
            " |      results in the standard Euclidean distance when p = 2. See the\n",
            " |      documentation of `scipy.spatial.distance\n",
            " |      <https://docs.scipy.org/doc/scipy/reference/spatial.distance.html>`_ and\n",
            " |      the metrics listed in\n",
            " |      :class:`~sklearn.metrics.pairwise.distance_metrics` for valid metric\n",
            " |      values.\n",
            " |  \n",
            " |      If metric is \"precomputed\", X is assumed to be a distance matrix and\n",
            " |      must be square during fit. X may be a :term:`sparse graph`, in which\n",
            " |      case only \"nonzero\" elements may be considered neighbors.\n",
            " |  \n",
            " |      If metric is a callable function, it takes two arrays representing 1D\n",
            " |      vectors as inputs and must return one value indicating the distance\n",
            " |      between those vectors. This works for Scipy's metrics, but is less\n",
            " |      efficient than passing the metric name as a string.\n",
            " |  \n",
            " |  metric_params : dict, default=None\n",
            " |      Additional keyword arguments for the metric function.\n",
            " |  \n",
            " |  n_jobs : int, default=None\n",
            " |      The number of parallel jobs to run for neighbors search.\n",
            " |      ``None`` means 1 unless in a :obj:`joblib.parallel_backend` context.\n",
            " |      ``-1`` means using all processors. See :term:`Glossary <n_jobs>`\n",
            " |      for more details.\n",
            " |      Doesn't affect :meth:`fit` method.\n",
            " |  \n",
            " |  Attributes\n",
            " |  ----------\n",
            " |  effective_metric_ : str or callable\n",
            " |      The distance metric to use. It will be same as the `metric` parameter\n",
            " |      or a synonym of it, e.g. 'euclidean' if the `metric` parameter set to\n",
            " |      'minkowski' and `p` parameter set to 2.\n",
            " |  \n",
            " |  effective_metric_params_ : dict\n",
            " |      Additional keyword arguments for the metric function. For most metrics\n",
            " |      will be same with `metric_params` parameter, but may also contain the\n",
            " |      `p` parameter value if the `effective_metric_` attribute is set to\n",
            " |      'minkowski'.\n",
            " |  \n",
            " |  n_features_in_ : int\n",
            " |      Number of features seen during :term:`fit`.\n",
            " |  \n",
            " |      .. versionadded:: 0.24\n",
            " |  \n",
            " |  feature_names_in_ : ndarray of shape (`n_features_in_`,)\n",
            " |      Names of features seen during :term:`fit`. Defined only when `X`\n",
            " |      has feature names that are all strings.\n",
            " |  \n",
            " |      .. versionadded:: 1.0\n",
            " |  \n",
            " |  n_samples_fit_ : int\n",
            " |      Number of samples in the fitted data.\n",
            " |  \n",
            " |  See Also\n",
            " |  --------\n",
            " |  NearestNeighbors : Unsupervised learner for implementing neighbor searches.\n",
            " |  RadiusNeighborsRegressor : Regression based on neighbors within a fixed radius.\n",
            " |  KNeighborsClassifier : Classifier implementing the k-nearest neighbors vote.\n",
            " |  RadiusNeighborsClassifier : Classifier implementing\n",
            " |      a vote among neighbors within a given radius.\n",
            " |  \n",
            " |  Notes\n",
            " |  -----\n",
            " |  See :ref:`Nearest Neighbors <neighbors>` in the online documentation\n",
            " |  for a discussion of the choice of ``algorithm`` and ``leaf_size``.\n",
            " |  \n",
            " |  .. warning::\n",
            " |  \n",
            " |     Regarding the Nearest Neighbors algorithms, if it is found that two\n",
            " |     neighbors, neighbor `k+1` and `k`, have identical distances but\n",
            " |     different labels, the results will depend on the ordering of the\n",
            " |     training data.\n",
            " |  \n",
            " |  https://en.wikipedia.org/wiki/K-nearest_neighbors_algorithm\n",
            " |  \n",
            " |  Examples\n",
            " |  --------\n",
            " |  >>> X = [[0], [1], [2], [3]]\n",
            " |  >>> y = [0, 0, 1, 1]\n",
            " |  >>> from sklearn.neighbors import KNeighborsRegressor\n",
            " |  >>> neigh = KNeighborsRegressor(n_neighbors=2)\n",
            " |  >>> neigh.fit(X, y)\n",
            " |  KNeighborsRegressor(...)\n",
            " |  >>> print(neigh.predict([[1.5]]))\n",
            " |  [0.5]\n",
            " |  \n",
            " |  Method resolution order:\n",
            " |      KNeighborsRegressor\n",
            " |      sklearn.neighbors._base.KNeighborsMixin\n",
            " |      sklearn.base.RegressorMixin\n",
            " |      sklearn.neighbors._base.NeighborsBase\n",
            " |      sklearn.base.MultiOutputMixin\n",
            " |      sklearn.base.BaseEstimator\n",
            " |      sklearn.utils._metadata_requests._MetadataRequester\n",
            " |      builtins.object\n",
            " |  \n",
            " |  Methods defined here:\n",
            " |  \n",
            " |  __init__(self, n_neighbors=5, *, weights='uniform', algorithm='auto', leaf_size=30, p=2, metric='minkowski', metric_params=None, n_jobs=None)\n",
            " |      Initialize self.  See help(type(self)) for accurate signature.\n",
            " |  \n",
            " |  fit(self, X, y)\n",
            " |      Fit the k-nearest neighbors regressor from the training dataset.\n",
            " |      \n",
            " |      Parameters\n",
            " |      ----------\n",
            " |      X : {array-like, sparse matrix} of shape (n_samples, n_features) or                 (n_samples, n_samples) if metric='precomputed'\n",
            " |          Training data.\n",
            " |      \n",
            " |      y : {array-like, sparse matrix} of shape (n_samples,) or                 (n_samples, n_outputs)\n",
            " |          Target values.\n",
            " |      \n",
            " |      Returns\n",
            " |      -------\n",
            " |      self : KNeighborsRegressor\n",
            " |          The fitted k-nearest neighbors regressor.\n",
            " |  \n",
            " |  predict(self, X)\n",
            " |      Predict the target for the provided data.\n",
            " |      \n",
            " |      Parameters\n",
            " |      ----------\n",
            " |      X : {array-like, sparse matrix} of shape (n_queries, n_features),                 or (n_queries, n_indexed) if metric == 'precomputed'\n",
            " |          Test samples.\n",
            " |      \n",
            " |      Returns\n",
            " |      -------\n",
            " |      y : ndarray of shape (n_queries,) or (n_queries, n_outputs), dtype=int\n",
            " |          Target values.\n",
            " |  \n",
            " |  set_score_request(self: sklearn.neighbors._regression.KNeighborsRegressor, *, sample_weight: Union[bool, NoneType, str] = '$UNCHANGED$') -> sklearn.neighbors._regression.KNeighborsRegressor\n",
            " |      Request metadata passed to the ``score`` method.\n",
            " |      \n",
            " |      Note that this method is only relevant if\n",
            " |      ``enable_metadata_routing=True`` (see :func:`sklearn.set_config`).\n",
            " |      Please see :ref:`User Guide <metadata_routing>` on how the routing\n",
            " |      mechanism works.\n",
            " |      \n",
            " |      The options for each parameter are:\n",
            " |      \n",
            " |      - ``True``: metadata is requested, and passed to ``score`` if provided. The request is ignored if metadata is not provided.\n",
            " |      \n",
            " |      - ``False``: metadata is not requested and the meta-estimator will not pass it to ``score``.\n",
            " |      \n",
            " |      - ``None``: metadata is not requested, and the meta-estimator will raise an error if the user provides it.\n",
            " |      \n",
            " |      - ``str``: metadata should be passed to the meta-estimator with this given alias instead of the original name.\n",
            " |      \n",
            " |      The default (``sklearn.utils.metadata_routing.UNCHANGED``) retains the\n",
            " |      existing request. This allows you to change the request for some\n",
            " |      parameters and not others.\n",
            " |      \n",
            " |      .. versionadded:: 1.3\n",
            " |      \n",
            " |      .. note::\n",
            " |          This method is only relevant if this estimator is used as a\n",
            " |          sub-estimator of a meta-estimator, e.g. used inside a\n",
            " |          :class:`~sklearn.pipeline.Pipeline`. Otherwise it has no effect.\n",
            " |      \n",
            " |      Parameters\n",
            " |      ----------\n",
            " |      sample_weight : str, True, False, or None,                     default=sklearn.utils.metadata_routing.UNCHANGED\n",
            " |          Metadata routing for ``sample_weight`` parameter in ``score``.\n",
            " |      \n",
            " |      Returns\n",
            " |      -------\n",
            " |      self : object\n",
            " |          The updated object.\n",
            " |  \n",
            " |  ----------------------------------------------------------------------\n",
            " |  Data and other attributes defined here:\n",
            " |  \n",
            " |  __abstractmethods__ = frozenset()\n",
            " |  \n",
            " |  __annotations__ = {'_parameter_constraints': <class 'dict'>}\n",
            " |  \n",
            " |  ----------------------------------------------------------------------\n",
            " |  Methods inherited from sklearn.neighbors._base.KNeighborsMixin:\n",
            " |  \n",
            " |  kneighbors(self, X=None, n_neighbors=None, return_distance=True)\n",
            " |      Find the K-neighbors of a point.\n",
            " |      \n",
            " |      Returns indices of and distances to the neighbors of each point.\n",
            " |      \n",
            " |      Parameters\n",
            " |      ----------\n",
            " |      X : {array-like, sparse matrix}, shape (n_queries, n_features),             or (n_queries, n_indexed) if metric == 'precomputed', default=None\n",
            " |          The query point or points.\n",
            " |          If not provided, neighbors of each indexed point are returned.\n",
            " |          In this case, the query point is not considered its own neighbor.\n",
            " |      \n",
            " |      n_neighbors : int, default=None\n",
            " |          Number of neighbors required for each sample. The default is the\n",
            " |          value passed to the constructor.\n",
            " |      \n",
            " |      return_distance : bool, default=True\n",
            " |          Whether or not to return the distances.\n",
            " |      \n",
            " |      Returns\n",
            " |      -------\n",
            " |      neigh_dist : ndarray of shape (n_queries, n_neighbors)\n",
            " |          Array representing the lengths to points, only present if\n",
            " |          return_distance=True.\n",
            " |      \n",
            " |      neigh_ind : ndarray of shape (n_queries, n_neighbors)\n",
            " |          Indices of the nearest points in the population matrix.\n",
            " |      \n",
            " |      Examples\n",
            " |      --------\n",
            " |      In the following example, we construct a NearestNeighbors\n",
            " |      class from an array representing our data set and ask who's\n",
            " |      the closest point to [1,1,1]\n",
            " |      \n",
            " |      >>> samples = [[0., 0., 0.], [0., .5, 0.], [1., 1., .5]]\n",
            " |      >>> from sklearn.neighbors import NearestNeighbors\n",
            " |      >>> neigh = NearestNeighbors(n_neighbors=1)\n",
            " |      >>> neigh.fit(samples)\n",
            " |      NearestNeighbors(n_neighbors=1)\n",
            " |      >>> print(neigh.kneighbors([[1., 1., 1.]]))\n",
            " |      (array([[0.5]]), array([[2]]))\n",
            " |      \n",
            " |      As you can see, it returns [[0.5]], and [[2]], which means that the\n",
            " |      element is at distance 0.5 and is the third element of samples\n",
            " |      (indexes start at 0). You can also query for multiple points:\n",
            " |      \n",
            " |      >>> X = [[0., 1., 0.], [1., 0., 1.]]\n",
            " |      >>> neigh.kneighbors(X, return_distance=False)\n",
            " |      array([[1],\n",
            " |             [2]]...)\n",
            " |  \n",
            " |  kneighbors_graph(self, X=None, n_neighbors=None, mode='connectivity')\n",
            " |      Compute the (weighted) graph of k-Neighbors for points in X.\n",
            " |      \n",
            " |      Parameters\n",
            " |      ----------\n",
            " |      X : {array-like, sparse matrix} of shape (n_queries, n_features),             or (n_queries, n_indexed) if metric == 'precomputed', default=None\n",
            " |          The query point or points.\n",
            " |          If not provided, neighbors of each indexed point are returned.\n",
            " |          In this case, the query point is not considered its own neighbor.\n",
            " |          For ``metric='precomputed'`` the shape should be\n",
            " |          (n_queries, n_indexed). Otherwise the shape should be\n",
            " |          (n_queries, n_features).\n",
            " |      \n",
            " |      n_neighbors : int, default=None\n",
            " |          Number of neighbors for each sample. The default is the value\n",
            " |          passed to the constructor.\n",
            " |      \n",
            " |      mode : {'connectivity', 'distance'}, default='connectivity'\n",
            " |          Type of returned matrix: 'connectivity' will return the\n",
            " |          connectivity matrix with ones and zeros, in 'distance' the\n",
            " |          edges are distances between points, type of distance\n",
            " |          depends on the selected metric parameter in\n",
            " |          NearestNeighbors class.\n",
            " |      \n",
            " |      Returns\n",
            " |      -------\n",
            " |      A : sparse-matrix of shape (n_queries, n_samples_fit)\n",
            " |          `n_samples_fit` is the number of samples in the fitted data.\n",
            " |          `A[i, j]` gives the weight of the edge connecting `i` to `j`.\n",
            " |          The matrix is of CSR format.\n",
            " |      \n",
            " |      See Also\n",
            " |      --------\n",
            " |      NearestNeighbors.radius_neighbors_graph : Compute the (weighted) graph\n",
            " |          of Neighbors for points in X.\n",
            " |      \n",
            " |      Examples\n",
            " |      --------\n",
            " |      >>> X = [[0], [3], [1]]\n",
            " |      >>> from sklearn.neighbors import NearestNeighbors\n",
            " |      >>> neigh = NearestNeighbors(n_neighbors=2)\n",
            " |      >>> neigh.fit(X)\n",
            " |      NearestNeighbors(n_neighbors=2)\n",
            " |      >>> A = neigh.kneighbors_graph(X)\n",
            " |      >>> A.toarray()\n",
            " |      array([[1., 0., 1.],\n",
            " |             [0., 1., 1.],\n",
            " |             [1., 0., 1.]])\n",
            " |  \n",
            " |  ----------------------------------------------------------------------\n",
            " |  Data descriptors inherited from sklearn.neighbors._base.KNeighborsMixin:\n",
            " |  \n",
            " |  __dict__\n",
            " |      dictionary for instance variables (if defined)\n",
            " |  \n",
            " |  __weakref__\n",
            " |      list of weak references to the object (if defined)\n",
            " |  \n",
            " |  ----------------------------------------------------------------------\n",
            " |  Methods inherited from sklearn.base.RegressorMixin:\n",
            " |  \n",
            " |  score(self, X, y, sample_weight=None)\n",
            " |      Return the coefficient of determination of the prediction.\n",
            " |      \n",
            " |      The coefficient of determination :math:`R^2` is defined as\n",
            " |      :math:`(1 - \\frac{u}{v})`, where :math:`u` is the residual\n",
            " |      sum of squares ``((y_true - y_pred)** 2).sum()`` and :math:`v`\n",
            " |      is the total sum of squares ``((y_true - y_true.mean()) ** 2).sum()``.\n",
            " |      The best possible score is 1.0 and it can be negative (because the\n",
            " |      model can be arbitrarily worse). A constant model that always predicts\n",
            " |      the expected value of `y`, disregarding the input features, would get\n",
            " |      a :math:`R^2` score of 0.0.\n",
            " |      \n",
            " |      Parameters\n",
            " |      ----------\n",
            " |      X : array-like of shape (n_samples, n_features)\n",
            " |          Test samples. For some estimators this may be a precomputed\n",
            " |          kernel matrix or a list of generic objects instead with shape\n",
            " |          ``(n_samples, n_samples_fitted)``, where ``n_samples_fitted``\n",
            " |          is the number of samples used in the fitting for the estimator.\n",
            " |      \n",
            " |      y : array-like of shape (n_samples,) or (n_samples, n_outputs)\n",
            " |          True values for `X`.\n",
            " |      \n",
            " |      sample_weight : array-like of shape (n_samples,), default=None\n",
            " |          Sample weights.\n",
            " |      \n",
            " |      Returns\n",
            " |      -------\n",
            " |      score : float\n",
            " |          :math:`R^2` of ``self.predict(X)`` w.r.t. `y`.\n",
            " |      \n",
            " |      Notes\n",
            " |      -----\n",
            " |      The :math:`R^2` score used when calling ``score`` on a regressor uses\n",
            " |      ``multioutput='uniform_average'`` from version 0.23 to keep consistent\n",
            " |      with default value of :func:`~sklearn.metrics.r2_score`.\n",
            " |      This influences the ``score`` method of all the multioutput\n",
            " |      regressors (except for\n",
            " |      :class:`~sklearn.multioutput.MultiOutputRegressor`).\n",
            " |  \n",
            " |  ----------------------------------------------------------------------\n",
            " |  Methods inherited from sklearn.base.BaseEstimator:\n",
            " |  \n",
            " |  __getstate__(self)\n",
            " |  \n",
            " |  __repr__(self, N_CHAR_MAX=700)\n",
            " |      Return repr(self).\n",
            " |  \n",
            " |  __setstate__(self, state)\n",
            " |  \n",
            " |  __sklearn_clone__(self)\n",
            " |  \n",
            " |  get_params(self, deep=True)\n",
            " |      Get parameters for this estimator.\n",
            " |      \n",
            " |      Parameters\n",
            " |      ----------\n",
            " |      deep : bool, default=True\n",
            " |          If True, will return the parameters for this estimator and\n",
            " |          contained subobjects that are estimators.\n",
            " |      \n",
            " |      Returns\n",
            " |      -------\n",
            " |      params : dict\n",
            " |          Parameter names mapped to their values.\n",
            " |  \n",
            " |  set_params(self, **params)\n",
            " |      Set the parameters of this estimator.\n",
            " |      \n",
            " |      The method works on simple estimators as well as on nested objects\n",
            " |      (such as :class:`~sklearn.pipeline.Pipeline`). The latter have\n",
            " |      parameters of the form ``<component>__<parameter>`` so that it's\n",
            " |      possible to update each component of a nested object.\n",
            " |      \n",
            " |      Parameters\n",
            " |      ----------\n",
            " |      **params : dict\n",
            " |          Estimator parameters.\n",
            " |      \n",
            " |      Returns\n",
            " |      -------\n",
            " |      self : estimator instance\n",
            " |          Estimator instance.\n",
            " |  \n",
            " |  ----------------------------------------------------------------------\n",
            " |  Methods inherited from sklearn.utils._metadata_requests._MetadataRequester:\n",
            " |  \n",
            " |  get_metadata_routing(self)\n",
            " |      Get metadata routing of this object.\n",
            " |      \n",
            " |      Please check :ref:`User Guide <metadata_routing>` on how the routing\n",
            " |      mechanism works.\n",
            " |      \n",
            " |      Returns\n",
            " |      -------\n",
            " |      routing : MetadataRequest\n",
            " |          A :class:`~sklearn.utils.metadata_routing.MetadataRequest` encapsulating\n",
            " |          routing information.\n",
            " |  \n",
            " |  ----------------------------------------------------------------------\n",
            " |  Class methods inherited from sklearn.utils._metadata_requests._MetadataRequester:\n",
            " |  \n",
            " |  __init_subclass__(**kwargs) from abc.ABCMeta\n",
            " |      Set the ``set_{method}_request`` methods.\n",
            " |      \n",
            " |      This uses PEP-487 [1]_ to set the ``set_{method}_request`` methods. It\n",
            " |      looks for the information available in the set default values which are\n",
            " |      set using ``__metadata_request__*`` class attributes, or inferred\n",
            " |      from method signatures.\n",
            " |      \n",
            " |      The ``__metadata_request__*`` class attributes are used when a method\n",
            " |      does not explicitly accept a metadata through its arguments or if the\n",
            " |      developer would like to specify a request value for those metadata\n",
            " |      which are different from the default ``None``.\n",
            " |      \n",
            " |      References\n",
            " |      ----------\n",
            " |      .. [1] https://www.python.org/dev/peps/pep-0487\n",
            "\n"
          ]
        }
      ]
    },
    {
      "cell_type": "markdown",
      "source": [
        "But we can change this and make some neighbors more significant while making others less significant by setting the weights attribute to distance"
      ],
      "metadata": {
        "id": "hq3qZIBxMDUE"
      }
    },
    {
      "cell_type": "markdown",
      "source": [
        "n_neighbors - 10"
      ],
      "metadata": {
        "id": "XpWkbwRxOGlV"
      }
    },
    {
      "cell_type": "code",
      "source": [
        "n_neighbors = 15\n",
        "model = KNeighborsRegressor(n_neighbors=n_neighbors, weights='distance')"
      ],
      "metadata": {
        "id": "XKmS6QXDLzsb"
      },
      "execution_count": 59,
      "outputs": []
    },
    {
      "cell_type": "code",
      "source": [
        "model.fit(X_train, y_train)"
      ],
      "metadata": {
        "colab": {
          "base_uri": "https://localhost:8080/",
          "height": 75
        },
        "id": "HpZC3cklL6mG",
        "outputId": "d774f58c-796a-41c8-b278-f9f19a8575b8"
      },
      "execution_count": 60,
      "outputs": [
        {
          "output_type": "execute_result",
          "data": {
            "text/plain": [
              "KNeighborsRegressor(n_neighbors=15, weights='distance')"
            ],
            "text/html": [
              "<style>#sk-container-id-6 {color: black;}#sk-container-id-6 pre{padding: 0;}#sk-container-id-6 div.sk-toggleable {background-color: white;}#sk-container-id-6 label.sk-toggleable__label {cursor: pointer;display: block;width: 100%;margin-bottom: 0;padding: 0.3em;box-sizing: border-box;text-align: center;}#sk-container-id-6 label.sk-toggleable__label-arrow:before {content: \"▸\";float: left;margin-right: 0.25em;color: #696969;}#sk-container-id-6 label.sk-toggleable__label-arrow:hover:before {color: black;}#sk-container-id-6 div.sk-estimator:hover label.sk-toggleable__label-arrow:before {color: black;}#sk-container-id-6 div.sk-toggleable__content {max-height: 0;max-width: 0;overflow: hidden;text-align: left;background-color: #f0f8ff;}#sk-container-id-6 div.sk-toggleable__content pre {margin: 0.2em;color: black;border-radius: 0.25em;background-color: #f0f8ff;}#sk-container-id-6 input.sk-toggleable__control:checked~div.sk-toggleable__content {max-height: 200px;max-width: 100%;overflow: auto;}#sk-container-id-6 input.sk-toggleable__control:checked~label.sk-toggleable__label-arrow:before {content: \"▾\";}#sk-container-id-6 div.sk-estimator input.sk-toggleable__control:checked~label.sk-toggleable__label {background-color: #d4ebff;}#sk-container-id-6 div.sk-label input.sk-toggleable__control:checked~label.sk-toggleable__label {background-color: #d4ebff;}#sk-container-id-6 input.sk-hidden--visually {border: 0;clip: rect(1px 1px 1px 1px);clip: rect(1px, 1px, 1px, 1px);height: 1px;margin: -1px;overflow: hidden;padding: 0;position: absolute;width: 1px;}#sk-container-id-6 div.sk-estimator {font-family: monospace;background-color: #f0f8ff;border: 1px dotted black;border-radius: 0.25em;box-sizing: border-box;margin-bottom: 0.5em;}#sk-container-id-6 div.sk-estimator:hover {background-color: #d4ebff;}#sk-container-id-6 div.sk-parallel-item::after {content: \"\";width: 100%;border-bottom: 1px solid gray;flex-grow: 1;}#sk-container-id-6 div.sk-label:hover label.sk-toggleable__label {background-color: #d4ebff;}#sk-container-id-6 div.sk-serial::before {content: \"\";position: absolute;border-left: 1px solid gray;box-sizing: border-box;top: 0;bottom: 0;left: 50%;z-index: 0;}#sk-container-id-6 div.sk-serial {display: flex;flex-direction: column;align-items: center;background-color: white;padding-right: 0.2em;padding-left: 0.2em;position: relative;}#sk-container-id-6 div.sk-item {position: relative;z-index: 1;}#sk-container-id-6 div.sk-parallel {display: flex;align-items: stretch;justify-content: center;background-color: white;position: relative;}#sk-container-id-6 div.sk-item::before, #sk-container-id-6 div.sk-parallel-item::before {content: \"\";position: absolute;border-left: 1px solid gray;box-sizing: border-box;top: 0;bottom: 0;left: 50%;z-index: -1;}#sk-container-id-6 div.sk-parallel-item {display: flex;flex-direction: column;z-index: 1;position: relative;background-color: white;}#sk-container-id-6 div.sk-parallel-item:first-child::after {align-self: flex-end;width: 50%;}#sk-container-id-6 div.sk-parallel-item:last-child::after {align-self: flex-start;width: 50%;}#sk-container-id-6 div.sk-parallel-item:only-child::after {width: 0;}#sk-container-id-6 div.sk-dashed-wrapped {border: 1px dashed gray;margin: 0 0.4em 0.5em 0.4em;box-sizing: border-box;padding-bottom: 0.4em;background-color: white;}#sk-container-id-6 div.sk-label label {font-family: monospace;font-weight: bold;display: inline-block;line-height: 1.2em;}#sk-container-id-6 div.sk-label-container {text-align: center;}#sk-container-id-6 div.sk-container {/* jupyter's `normalize.less` sets `[hidden] { display: none; }` but bootstrap.min.css set `[hidden] { display: none !important; }` so we also need the `!important` here to be able to override the default hidden behavior on the sphinx rendered scikit-learn.org. See: https://github.com/scikit-learn/scikit-learn/issues/21755 */display: inline-block !important;position: relative;}#sk-container-id-6 div.sk-text-repr-fallback {display: none;}</style><div id=\"sk-container-id-6\" class=\"sk-top-container\"><div class=\"sk-text-repr-fallback\"><pre>KNeighborsRegressor(n_neighbors=15, weights=&#x27;distance&#x27;)</pre><b>In a Jupyter environment, please rerun this cell to show the HTML representation or trust the notebook. <br />On GitHub, the HTML representation is unable to render, please try loading this page with nbviewer.org.</b></div><div class=\"sk-container\" hidden><div class=\"sk-item\"><div class=\"sk-estimator sk-toggleable\"><input class=\"sk-toggleable__control sk-hidden--visually\" id=\"sk-estimator-id-6\" type=\"checkbox\" checked><label for=\"sk-estimator-id-6\" class=\"sk-toggleable__label sk-toggleable__label-arrow\">KNeighborsRegressor</label><div class=\"sk-toggleable__content\"><pre>KNeighborsRegressor(n_neighbors=15, weights=&#x27;distance&#x27;)</pre></div></div></div></div></div>"
            ]
          },
          "metadata": {},
          "execution_count": 60
        }
      ]
    },
    {
      "cell_type": "code",
      "source": [
        "pred_test = model.predict(X_test)\n",
        "r2_score(pred_test, y_test)"
      ],
      "metadata": {
        "colab": {
          "base_uri": "https://localhost:8080/"
        },
        "id": "MsxGRjaBNGQc",
        "outputId": "d8afe1c5-0eed-4682-8950-65593f44dce1"
      },
      "execution_count": 61,
      "outputs": [
        {
          "output_type": "execute_result",
          "data": {
            "text/plain": [
              "0.6424558155554139"
            ]
          },
          "metadata": {},
          "execution_count": 61
        }
      ]
    },
    {
      "cell_type": "code",
      "source": [
        "model = KNeighborsRegressor(n_neighbors=n_neighbors, weights='uniform')\n"
      ],
      "metadata": {
        "id": "JOKUfl4sNn-8"
      },
      "execution_count": 62,
      "outputs": []
    },
    {
      "cell_type": "code",
      "source": [
        "model.fit(X_train, y_train)\n",
        "pred_test = model.predict(X_test)\n",
        "r2_score(pred_test, y_test)"
      ],
      "metadata": {
        "colab": {
          "base_uri": "https://localhost:8080/"
        },
        "id": "RKu8cDC3Nxy4",
        "outputId": "b2d73fc1-f7db-433d-da42-5d8ed3331e0e"
      },
      "execution_count": 63,
      "outputs": [
        {
          "output_type": "execute_result",
          "data": {
            "text/plain": [
              "0.5899295105766682"
            ]
          },
          "metadata": {},
          "execution_count": 63
        }
      ]
    },
    {
      "cell_type": "markdown",
      "source": [
        "n_neighbors - 5"
      ],
      "metadata": {
        "id": "gFzo_t3TOUyk"
      }
    },
    {
      "cell_type": "code",
      "source": [
        "n_neighbors = 5\n",
        "model = KNeighborsRegressor(n_neighbors=n_neighbors, weights='distance')\n",
        "model"
      ],
      "metadata": {
        "colab": {
          "base_uri": "https://localhost:8080/",
          "height": 75
        },
        "id": "FHBltHZOOUk6",
        "outputId": "c6369d23-dc11-4357-fe19-b38295e0e353"
      },
      "execution_count": 65,
      "outputs": [
        {
          "output_type": "execute_result",
          "data": {
            "text/plain": [
              "KNeighborsRegressor(weights='distance')"
            ],
            "text/html": [
              "<style>#sk-container-id-7 {color: black;}#sk-container-id-7 pre{padding: 0;}#sk-container-id-7 div.sk-toggleable {background-color: white;}#sk-container-id-7 label.sk-toggleable__label {cursor: pointer;display: block;width: 100%;margin-bottom: 0;padding: 0.3em;box-sizing: border-box;text-align: center;}#sk-container-id-7 label.sk-toggleable__label-arrow:before {content: \"▸\";float: left;margin-right: 0.25em;color: #696969;}#sk-container-id-7 label.sk-toggleable__label-arrow:hover:before {color: black;}#sk-container-id-7 div.sk-estimator:hover label.sk-toggleable__label-arrow:before {color: black;}#sk-container-id-7 div.sk-toggleable__content {max-height: 0;max-width: 0;overflow: hidden;text-align: left;background-color: #f0f8ff;}#sk-container-id-7 div.sk-toggleable__content pre {margin: 0.2em;color: black;border-radius: 0.25em;background-color: #f0f8ff;}#sk-container-id-7 input.sk-toggleable__control:checked~div.sk-toggleable__content {max-height: 200px;max-width: 100%;overflow: auto;}#sk-container-id-7 input.sk-toggleable__control:checked~label.sk-toggleable__label-arrow:before {content: \"▾\";}#sk-container-id-7 div.sk-estimator input.sk-toggleable__control:checked~label.sk-toggleable__label {background-color: #d4ebff;}#sk-container-id-7 div.sk-label input.sk-toggleable__control:checked~label.sk-toggleable__label {background-color: #d4ebff;}#sk-container-id-7 input.sk-hidden--visually {border: 0;clip: rect(1px 1px 1px 1px);clip: rect(1px, 1px, 1px, 1px);height: 1px;margin: -1px;overflow: hidden;padding: 0;position: absolute;width: 1px;}#sk-container-id-7 div.sk-estimator {font-family: monospace;background-color: #f0f8ff;border: 1px dotted black;border-radius: 0.25em;box-sizing: border-box;margin-bottom: 0.5em;}#sk-container-id-7 div.sk-estimator:hover {background-color: #d4ebff;}#sk-container-id-7 div.sk-parallel-item::after {content: \"\";width: 100%;border-bottom: 1px solid gray;flex-grow: 1;}#sk-container-id-7 div.sk-label:hover label.sk-toggleable__label {background-color: #d4ebff;}#sk-container-id-7 div.sk-serial::before {content: \"\";position: absolute;border-left: 1px solid gray;box-sizing: border-box;top: 0;bottom: 0;left: 50%;z-index: 0;}#sk-container-id-7 div.sk-serial {display: flex;flex-direction: column;align-items: center;background-color: white;padding-right: 0.2em;padding-left: 0.2em;position: relative;}#sk-container-id-7 div.sk-item {position: relative;z-index: 1;}#sk-container-id-7 div.sk-parallel {display: flex;align-items: stretch;justify-content: center;background-color: white;position: relative;}#sk-container-id-7 div.sk-item::before, #sk-container-id-7 div.sk-parallel-item::before {content: \"\";position: absolute;border-left: 1px solid gray;box-sizing: border-box;top: 0;bottom: 0;left: 50%;z-index: -1;}#sk-container-id-7 div.sk-parallel-item {display: flex;flex-direction: column;z-index: 1;position: relative;background-color: white;}#sk-container-id-7 div.sk-parallel-item:first-child::after {align-self: flex-end;width: 50%;}#sk-container-id-7 div.sk-parallel-item:last-child::after {align-self: flex-start;width: 50%;}#sk-container-id-7 div.sk-parallel-item:only-child::after {width: 0;}#sk-container-id-7 div.sk-dashed-wrapped {border: 1px dashed gray;margin: 0 0.4em 0.5em 0.4em;box-sizing: border-box;padding-bottom: 0.4em;background-color: white;}#sk-container-id-7 div.sk-label label {font-family: monospace;font-weight: bold;display: inline-block;line-height: 1.2em;}#sk-container-id-7 div.sk-label-container {text-align: center;}#sk-container-id-7 div.sk-container {/* jupyter's `normalize.less` sets `[hidden] { display: none; }` but bootstrap.min.css set `[hidden] { display: none !important; }` so we also need the `!important` here to be able to override the default hidden behavior on the sphinx rendered scikit-learn.org. See: https://github.com/scikit-learn/scikit-learn/issues/21755 */display: inline-block !important;position: relative;}#sk-container-id-7 div.sk-text-repr-fallback {display: none;}</style><div id=\"sk-container-id-7\" class=\"sk-top-container\"><div class=\"sk-text-repr-fallback\"><pre>KNeighborsRegressor(weights=&#x27;distance&#x27;)</pre><b>In a Jupyter environment, please rerun this cell to show the HTML representation or trust the notebook. <br />On GitHub, the HTML representation is unable to render, please try loading this page with nbviewer.org.</b></div><div class=\"sk-container\" hidden><div class=\"sk-item\"><div class=\"sk-estimator sk-toggleable\"><input class=\"sk-toggleable__control sk-hidden--visually\" id=\"sk-estimator-id-7\" type=\"checkbox\" checked><label for=\"sk-estimator-id-7\" class=\"sk-toggleable__label sk-toggleable__label-arrow\">KNeighborsRegressor</label><div class=\"sk-toggleable__content\"><pre>KNeighborsRegressor(weights=&#x27;distance&#x27;)</pre></div></div></div></div></div>"
            ]
          },
          "metadata": {},
          "execution_count": 65
        }
      ]
    },
    {
      "cell_type": "code",
      "source": [
        "model.fit(X_train, y_train)\n",
        "pred_test = model.predict(X_test)\n",
        "r2_score(pred_test, y_test)"
      ],
      "metadata": {
        "colab": {
          "base_uri": "https://localhost:8080/"
        },
        "id": "xLL76VnsOngv",
        "outputId": "f22147c3-4b15-4b51-f920-65e17c9e9ca0"
      },
      "execution_count": 66,
      "outputs": [
        {
          "output_type": "execute_result",
          "data": {
            "text/plain": [
              "0.7277089157461014"
            ]
          },
          "metadata": {},
          "execution_count": 66
        }
      ]
    },
    {
      "cell_type": "code",
      "source": [
        "model = KNeighborsRegressor(n_neighbors=n_neighbors, weights='uniform')\n",
        "model.fit(X_train, y_train)\n",
        "pred_test = model.predict(X_test)\n",
        "r2_score(pred_test, y_test)"
      ],
      "metadata": {
        "colab": {
          "base_uri": "https://localhost:8080/"
        },
        "id": "cTuLv2VLOtdX",
        "outputId": "2363c64f-c098-47e9-862b-10bf04dd0c3b"
      },
      "execution_count": 69,
      "outputs": [
        {
          "output_type": "execute_result",
          "data": {
            "text/plain": [
              "0.7807474118215368"
            ]
          },
          "metadata": {},
          "execution_count": 69
        }
      ]
    },
    {
      "cell_type": "code",
      "source": [],
      "metadata": {
        "id": "a6ak6snJOyD-"
      },
      "execution_count": null,
      "outputs": []
    }
  ]
}