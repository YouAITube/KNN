{
  "nbformat": 4,
  "nbformat_minor": 0,
  "metadata": {
    "colab": {
      "provenance": []
    },
    "kernelspec": {
      "name": "python3",
      "display_name": "Python 3"
    },
    "language_info": {
      "name": "python"
    },
    "widgets": {
      "application/vnd.jupyter.widget-state+json": {
        "92038b59d54f4850b01fc0602b1568de": {
          "model_module": "@jupyter-widgets/controls",
          "model_name": "VBoxModel",
          "model_module_version": "1.5.0",
          "state": {
            "_dom_classes": [
              "widget-interact"
            ],
            "_model_module": "@jupyter-widgets/controls",
            "_model_module_version": "1.5.0",
            "_model_name": "VBoxModel",
            "_view_count": null,
            "_view_module": "@jupyter-widgets/controls",
            "_view_module_version": "1.5.0",
            "_view_name": "VBoxView",
            "box_style": "",
            "children": [
              "IPY_MODEL_53557263c9bd43c2b980148a33276877",
              "IPY_MODEL_e7afc92194824170898fd38f25382b24",
              "IPY_MODEL_23cefc43758d4bd8a339d451b495b75a"
            ],
            "layout": "IPY_MODEL_4b3057c98fc14854a049135ce641f2de"
          }
        },
        "53557263c9bd43c2b980148a33276877": {
          "model_module": "@jupyter-widgets/controls",
          "model_name": "IntSliderModel",
          "model_module_version": "1.5.0",
          "state": {
            "_dom_classes": [],
            "_model_module": "@jupyter-widgets/controls",
            "_model_module_version": "1.5.0",
            "_model_name": "IntSliderModel",
            "_view_count": null,
            "_view_module": "@jupyter-widgets/controls",
            "_view_module_version": "1.5.0",
            "_view_name": "IntSliderView",
            "continuous_update": true,
            "description": "N",
            "description_tooltip": null,
            "disabled": false,
            "layout": "IPY_MODEL_25eff1a8ae564c0a85419579d2106f7d",
            "max": 250,
            "min": 50,
            "orientation": "horizontal",
            "readout": true,
            "readout_format": "d",
            "step": 25,
            "style": "IPY_MODEL_706d2e2478344cfeb4e0a93ed217e8de",
            "value": 150
          }
        },
        "e7afc92194824170898fd38f25382b24": {
          "model_module": "@jupyter-widgets/controls",
          "model_name": "FloatSliderModel",
          "model_module_version": "1.5.0",
          "state": {
            "_dom_classes": [],
            "_model_module": "@jupyter-widgets/controls",
            "_model_module_version": "1.5.0",
            "_model_name": "FloatSliderModel",
            "_view_count": null,
            "_view_module": "@jupyter-widgets/controls",
            "_view_module_version": "1.5.0",
            "_view_name": "FloatSliderView",
            "continuous_update": true,
            "description": "Noise",
            "description_tooltip": null,
            "disabled": false,
            "layout": "IPY_MODEL_bd057f631fa6473ebfa2b4953b6dfae8",
            "max": 50,
            "min": 0,
            "orientation": "horizontal",
            "readout": true,
            "readout_format": ".2f",
            "step": 5,
            "style": "IPY_MODEL_66e47b6a932d400eaa49806e10c99ecc",
            "value": 30
          }
        },
        "23cefc43758d4bd8a339d451b495b75a": {
          "model_module": "@jupyter-widgets/output",
          "model_name": "OutputModel",
          "model_module_version": "1.0.0",
          "state": {
            "_dom_classes": [],
            "_model_module": "@jupyter-widgets/output",
            "_model_module_version": "1.0.0",
            "_model_name": "OutputModel",
            "_view_count": null,
            "_view_module": "@jupyter-widgets/output",
            "_view_module_version": "1.0.0",
            "_view_name": "OutputView",
            "layout": "IPY_MODEL_ccf2c8b5743d4ef1a35b67fe0d3a49be",
            "msg_id": "",
            "outputs": [
              {
                "output_type": "display_data",
                "data": {
                  "text/plain": "<Figure size 1000x400 with 1 Axes>",
                  "image/png": "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\n"
                },
                "metadata": {}
              }
            ]
          }
        },
        "4b3057c98fc14854a049135ce641f2de": {
          "model_module": "@jupyter-widgets/base",
          "model_name": "LayoutModel",
          "model_module_version": "1.2.0",
          "state": {
            "_model_module": "@jupyter-widgets/base",
            "_model_module_version": "1.2.0",
            "_model_name": "LayoutModel",
            "_view_count": null,
            "_view_module": "@jupyter-widgets/base",
            "_view_module_version": "1.2.0",
            "_view_name": "LayoutView",
            "align_content": null,
            "align_items": null,
            "align_self": null,
            "border": null,
            "bottom": null,
            "display": null,
            "flex": null,
            "flex_flow": null,
            "grid_area": null,
            "grid_auto_columns": null,
            "grid_auto_flow": null,
            "grid_auto_rows": null,
            "grid_column": null,
            "grid_gap": null,
            "grid_row": null,
            "grid_template_areas": null,
            "grid_template_columns": null,
            "grid_template_rows": null,
            "height": null,
            "justify_content": null,
            "justify_items": null,
            "left": null,
            "margin": null,
            "max_height": null,
            "max_width": null,
            "min_height": null,
            "min_width": null,
            "object_fit": null,
            "object_position": null,
            "order": null,
            "overflow": null,
            "overflow_x": null,
            "overflow_y": null,
            "padding": null,
            "right": null,
            "top": null,
            "visibility": null,
            "width": null
          }
        },
        "25eff1a8ae564c0a85419579d2106f7d": {
          "model_module": "@jupyter-widgets/base",
          "model_name": "LayoutModel",
          "model_module_version": "1.2.0",
          "state": {
            "_model_module": "@jupyter-widgets/base",
            "_model_module_version": "1.2.0",
            "_model_name": "LayoutModel",
            "_view_count": null,
            "_view_module": "@jupyter-widgets/base",
            "_view_module_version": "1.2.0",
            "_view_name": "LayoutView",
            "align_content": null,
            "align_items": null,
            "align_self": null,
            "border": null,
            "bottom": null,
            "display": null,
            "flex": null,
            "flex_flow": null,
            "grid_area": null,
            "grid_auto_columns": null,
            "grid_auto_flow": null,
            "grid_auto_rows": null,
            "grid_column": null,
            "grid_gap": null,
            "grid_row": null,
            "grid_template_areas": null,
            "grid_template_columns": null,
            "grid_template_rows": null,
            "height": null,
            "justify_content": null,
            "justify_items": null,
            "left": null,
            "margin": null,
            "max_height": null,
            "max_width": null,
            "min_height": null,
            "min_width": null,
            "object_fit": null,
            "object_position": null,
            "order": null,
            "overflow": null,
            "overflow_x": null,
            "overflow_y": null,
            "padding": null,
            "right": null,
            "top": null,
            "visibility": null,
            "width": null
          }
        },
        "706d2e2478344cfeb4e0a93ed217e8de": {
          "model_module": "@jupyter-widgets/controls",
          "model_name": "SliderStyleModel",
          "model_module_version": "1.5.0",
          "state": {
            "_model_module": "@jupyter-widgets/controls",
            "_model_module_version": "1.5.0",
            "_model_name": "SliderStyleModel",
            "_view_count": null,
            "_view_module": "@jupyter-widgets/base",
            "_view_module_version": "1.2.0",
            "_view_name": "StyleView",
            "description_width": "",
            "handle_color": null
          }
        },
        "bd057f631fa6473ebfa2b4953b6dfae8": {
          "model_module": "@jupyter-widgets/base",
          "model_name": "LayoutModel",
          "model_module_version": "1.2.0",
          "state": {
            "_model_module": "@jupyter-widgets/base",
            "_model_module_version": "1.2.0",
            "_model_name": "LayoutModel",
            "_view_count": null,
            "_view_module": "@jupyter-widgets/base",
            "_view_module_version": "1.2.0",
            "_view_name": "LayoutView",
            "align_content": null,
            "align_items": null,
            "align_self": null,
            "border": null,
            "bottom": null,
            "display": null,
            "flex": null,
            "flex_flow": null,
            "grid_area": null,
            "grid_auto_columns": null,
            "grid_auto_flow": null,
            "grid_auto_rows": null,
            "grid_column": null,
            "grid_gap": null,
            "grid_row": null,
            "grid_template_areas": null,
            "grid_template_columns": null,
            "grid_template_rows": null,
            "height": null,
            "justify_content": null,
            "justify_items": null,
            "left": null,
            "margin": null,
            "max_height": null,
            "max_width": null,
            "min_height": null,
            "min_width": null,
            "object_fit": null,
            "object_position": null,
            "order": null,
            "overflow": null,
            "overflow_x": null,
            "overflow_y": null,
            "padding": null,
            "right": null,
            "top": null,
            "visibility": null,
            "width": null
          }
        },
        "66e47b6a932d400eaa49806e10c99ecc": {
          "model_module": "@jupyter-widgets/controls",
          "model_name": "SliderStyleModel",
          "model_module_version": "1.5.0",
          "state": {
            "_model_module": "@jupyter-widgets/controls",
            "_model_module_version": "1.5.0",
            "_model_name": "SliderStyleModel",
            "_view_count": null,
            "_view_module": "@jupyter-widgets/base",
            "_view_module_version": "1.2.0",
            "_view_name": "StyleView",
            "description_width": "",
            "handle_color": null
          }
        },
        "ccf2c8b5743d4ef1a35b67fe0d3a49be": {
          "model_module": "@jupyter-widgets/base",
          "model_name": "LayoutModel",
          "model_module_version": "1.2.0",
          "state": {
            "_model_module": "@jupyter-widgets/base",
            "_model_module_version": "1.2.0",
            "_model_name": "LayoutModel",
            "_view_count": null,
            "_view_module": "@jupyter-widgets/base",
            "_view_module_version": "1.2.0",
            "_view_name": "LayoutView",
            "align_content": null,
            "align_items": null,
            "align_self": null,
            "border": null,
            "bottom": null,
            "display": null,
            "flex": null,
            "flex_flow": null,
            "grid_area": null,
            "grid_auto_columns": null,
            "grid_auto_flow": null,
            "grid_auto_rows": null,
            "grid_column": null,
            "grid_gap": null,
            "grid_row": null,
            "grid_template_areas": null,
            "grid_template_columns": null,
            "grid_template_rows": null,
            "height": null,
            "justify_content": null,
            "justify_items": null,
            "left": null,
            "margin": null,
            "max_height": null,
            "max_width": null,
            "min_height": null,
            "min_width": null,
            "object_fit": null,
            "object_position": null,
            "order": null,
            "overflow": null,
            "overflow_x": null,
            "overflow_y": null,
            "padding": null,
            "right": null,
            "top": null,
            "visibility": null,
            "width": null
          }
        }
      }
    }
  },
  "cells": [
    {
      "cell_type": "markdown",
      "source": [
        "https://www.youtube.com/@AI_INFO_29"
      ],
      "metadata": {
        "id": "3MHRIoOtzo-S"
      }
    },
    {
      "cell_type": "code",
      "execution_count": 129,
      "metadata": {
        "id": "QsakK7nszhO_"
      },
      "outputs": [],
      "source": [
        "import matplotlib.pyplot as plt\n",
        "from sklearn.datasets import make_regression\n",
        "from sklearn.neighbors import KNeighborsRegressor\n",
        "import ipywidgets as widgets\n",
        "from ipywidgets import interact\n",
        "import seaborn as sns\n",
        "import numpy as np\n",
        "import pandas as pd\n",
        "from sklearn.metrics import r2_score"
      ]
    },
    {
      "cell_type": "code",
      "source": [
        "# Function to generate and plot the data\n",
        "def generate_regression_data(N, noise):\n",
        "    # Generate regression data with a linear relationship\n",
        "    X, y = make_regression(n_samples=N, n_features=1, noise=noise, random_state=0)\n",
        "    return X, y\n",
        "\n",
        "def plot_regression(N, noise):\n",
        "    # Generate the data\n",
        "    X, y = generate_regression_data(N, noise)\n",
        "    # Create a figure\n",
        "    plt.figure(figsize=(10, 4))\n",
        "    # Create a scatter plot of X vs y to show the regression line relationship\n",
        "    plt.scatter(X, y, c='g')\n",
        "    plt.title('Regression Data Set')\n",
        "    plt.xlabel('Feature 1')\n",
        "    plt.ylabel('Target')\n",
        "    plt.grid(True)\n",
        "    # Show the plot\n",
        "    plt.show()\n",
        "\n",
        "# Create interactive widgets\n",
        "N_slider = widgets.IntSlider(value=100, min=50, max=250, step=25, description='N')\n",
        "noise_slider = widgets.FloatSlider(value=10, min=0, max=50, step=5, description='Noise')\n",
        "\n",
        "# Use interact to create an interactive plot\n",
        "interact(plot_regression, N=N_slider, noise=noise_slider)\n",
        "\n",
        "# Extract dataset for future use\n",
        "N_value = 125  # Number of samples\n",
        "noise_value = 30  # Noise level\n",
        "X, y = generate_regression_data(N=N_value, noise=noise_value)\n"
      ],
      "metadata": {
        "colab": {
          "base_uri": "https://localhost:8080/",
          "height": 474,
          "referenced_widgets": [
            "92038b59d54f4850b01fc0602b1568de",
            "53557263c9bd43c2b980148a33276877",
            "e7afc92194824170898fd38f25382b24",
            "23cefc43758d4bd8a339d451b495b75a",
            "4b3057c98fc14854a049135ce641f2de",
            "25eff1a8ae564c0a85419579d2106f7d",
            "706d2e2478344cfeb4e0a93ed217e8de",
            "bd057f631fa6473ebfa2b4953b6dfae8",
            "66e47b6a932d400eaa49806e10c99ecc",
            "ccf2c8b5743d4ef1a35b67fe0d3a49be"
          ]
        },
        "id": "vtW711YBzt6d",
        "outputId": "24917b15-a95e-46e2-db66-ff748c98e418"
      },
      "execution_count": 130,
      "outputs": [
        {
          "output_type": "display_data",
          "data": {
            "text/plain": [
              "interactive(children=(IntSlider(value=100, description='N', max=250, min=50, step=25), FloatSlider(value=10.0,…"
            ],
            "application/vnd.jupyter.widget-view+json": {
              "version_major": 2,
              "version_minor": 0,
              "model_id": "92038b59d54f4850b01fc0602b1568de"
            }
          },
          "metadata": {}
        }
      ]
    },
    {
      "cell_type": "code",
      "source": [
        "from sklearn.model_selection import train_test_split\n",
        "X_train, X_test, y_train, y_test = train_test_split(X,\n",
        "                                                    y,\n",
        "                                                    random_state=0,\n",
        "                                                    test_size=5)\n",
        "X_train.shape, X_test.shape"
      ],
      "metadata": {
        "colab": {
          "base_uri": "https://localhost:8080/"
        },
        "id": "eXHmuU-PzwsB",
        "outputId": "9bfd6826-b804-420a-fb22-65bb4a5664fe"
      },
      "execution_count": 131,
      "outputs": [
        {
          "output_type": "execute_result",
          "data": {
            "text/plain": [
              "((120, 1), (5, 1))"
            ]
          },
          "metadata": {},
          "execution_count": 131
        }
      ]
    },
    {
      "cell_type": "code",
      "source": [
        "plt.figure(figsize=(6, 4))\n",
        "#idx = 0\n",
        "#test_dot = X_test[idx]\n",
        "plt.scatter(X_train, y_train, c='b', marker='o', s=10, label='train dots')\n",
        "plt.grid()\n",
        "plt.scatter(X_test, y_test, c='g', marker='*', s=100, label='test dot')\n",
        "#plt.scatter(X_test[idx, 0], y_test[idx], c='g', marker='*', s=100, label='test dot')\n",
        "plt.xlabel('feature')\n",
        "plt.ylabel('target')\n",
        "plt.legend();"
      ],
      "metadata": {
        "colab": {
          "base_uri": "https://localhost:8080/",
          "height": 388
        },
        "id": "gyZc8Rcfzy7P",
        "outputId": "b50c3f7c-4987-468a-d11e-c80cbf9b290d"
      },
      "execution_count": 132,
      "outputs": [
        {
          "output_type": "display_data",
          "data": {
            "text/plain": [
              "<Figure size 600x400 with 1 Axes>"
            ],
            "image/png": "[encoded data removed]"
          },
          "metadata": {}
        }
      ]
    },
    {
      "cell_type": "code",
      "source": [
        "x = np.linspace(0, 1, 50)\n",
        "plt.plot(x, 1/(x))\n",
        "plt.ylabel('weight')\n",
        "plt.xlabel('distance');\n",
        "# Add the formula to the plot\n",
        "plt.text(0.5, 5, r'$\\frac{1}{distance}$', fontsize=14, color='red')  # Position and style\n",
        "\n",
        "# Show plot\n",
        "plt.grid(True)\n",
        "plt.show()"
      ],
      "metadata": {
        "colab": {
          "base_uri": "https://localhost:8080/",
          "height": 484
        },
        "id": "YGLFbJ-T0wbU",
        "outputId": "8c7f8c97-2e78-495c-b5b3-0869ecda9e9d"
      },
      "execution_count": 133,
      "outputs": [
        {
          "output_type": "stream",
          "name": "stderr",
          "text": [
            "<ipython-input-133-293fe201e9d8>:2: RuntimeWarning: divide by zero encountered in divide\n",
            "  plt.plot(x, 1/(x))\n"
          ]
        },
        {
          "output_type": "display_data",
          "data": {
            "text/plain": [
              "<Figure size 640x480 with 1 Axes>"
            ],
            "image/png": "[encoded data removed]"
          },
          "metadata": {}
        }
      ]
    },
    {
      "cell_type": "markdown",
      "source": [
        "Using a weight - one divided by distance is not an ideal solution due to the problem of division by zero when the distance between a test point and a training point becomes zero."
      ],
      "metadata": {
        "id": "vw_OJsGG0-zN"
      }
    },
    {
      "cell_type": "code",
      "source": [
        "def weight_add(dists):\n",
        "    weights = np.zeros(dists.shape)\n",
        "\n",
        "    for i in range(dists.shape[1]):\n",
        "        weights[:, i] = 1/(i+1)\n",
        "\n",
        "    return weights"
      ],
      "metadata": {
        "id": "wDNQ3thH0ayZ"
      },
      "execution_count": 134,
      "outputs": []
    },
    {
      "cell_type": "code",
      "source": [
        "from sklearn.model_selection import GridSearchCV ,RandomizedSearchCV\n",
        "from sklearn.neighbors import KNeighborsRegressor\n",
        "from sklearn.model_selection import ShuffleSplit\n",
        "from sklearn.model_selection import StratifiedKFold"
      ],
      "metadata": {
        "id": "W0lCQULM1IBn"
      },
      "execution_count": 135,
      "outputs": []
    },
    {
      "cell_type": "code",
      "source": [
        "np.arange(1,30,1)"
      ],
      "metadata": {
        "colab": {
          "base_uri": "https://localhost:8080/"
        },
        "id": "Wgn8eOuv3h3Q",
        "outputId": "fe6c95b1-393e-448a-a94e-3df2f4ab9428"
      },
      "execution_count": 136,
      "outputs": [
        {
          "output_type": "execute_result",
          "data": {
            "text/plain": [
              "array([ 1,  2,  3,  4,  5,  6,  7,  8,  9, 10, 11, 12, 13, 14, 15, 16, 17,\n",
              "       18, 19, 20, 21, 22, 23, 24, 25, 26, 27, 28, 29])"
            ]
          },
          "metadata": {},
          "execution_count": 136
        }
      ]
    },
    {
      "cell_type": "code",
      "source": [
        "parameters = {'n_neighbors':np.arange(3,15,1),\n",
        "              'weights':['uniform', 'distance',weight_add],\n",
        "              'metric':[\"minkowski\",'euclidean','manhattan','chebyshev']}\n",
        "\n",
        "#n_iter_search = 20\n",
        "\n",
        "kNN_search = RandomizedSearchCV(estimator = KNeighborsRegressor(),\n",
        "                                verbose = 3,\n",
        "                          param_distributions=parameters ,\n",
        "                          cv=ShuffleSplit(n_splits=5, random_state=42),\n",
        "                          #n_iter = n_iter_search\n",
        "                          )\n",
        ""
      ],
      "metadata": {
        "id": "XwziaL3v1TUE"
      },
      "execution_count": 137,
      "outputs": []
    },
    {
      "cell_type": "code",
      "source": [
        "\n",
        "kNN_search.fit(X_train, y_train)\n",
        "\n",
        "kNNbest=kNN_search.best_estimator_\n",
        "\n",
        "kNNbest.fit(X_train, y_train);"
      ],
      "metadata": {
        "colab": {
          "base_uri": "https://localhost:8080/"
        },
        "id": "Z66WWFno14yR",
        "outputId": "eef26752-de34-48ee-f090-fb9d67fc931c"
      },
      "execution_count": 138,
      "outputs": [
        {
          "output_type": "stream",
          "name": "stdout",
          "text": [
            "Fitting 5 folds for each of 10 candidates, totalling 50 fits\n",
            "[CV 1/5] END metric=manhattan, n_neighbors=14, weights=distance;, score=0.766 total time=   0.0s\n",
            "[CV 2/5] END metric=manhattan, n_neighbors=14, weights=distance;, score=0.753 total time=   0.0s\n",
            "[CV 3/5] END metric=manhattan, n_neighbors=14, weights=distance;, score=0.747 total time=   0.0s\n",
            "[CV 4/5] END metric=manhattan, n_neighbors=14, weights=distance;, score=0.880 total time=   0.0s\n",
            "[CV 5/5] END metric=manhattan, n_neighbors=14, weights=distance;, score=0.905 total time=   0.0s\n",
            "[CV 1/5] END metric=minkowski, n_neighbors=14, weights=<function weight_add at 0x7c30d8486320>;, score=0.756 total time=   0.0s\n",
            "[CV 2/5] END metric=minkowski, n_neighbors=14, weights=<function weight_add at 0x7c30d8486320>;, score=0.812 total time=   0.0s\n",
            "[CV 3/5] END metric=minkowski, n_neighbors=14, weights=<function weight_add at 0x7c30d8486320>;, score=0.739 total time=   0.0s\n",
            "[CV 4/5] END metric=minkowski, n_neighbors=14, weights=<function weight_add at 0x7c30d8486320>;, score=0.908 total time=   0.0s\n",
            "[CV 5/5] END metric=minkowski, n_neighbors=14, weights=<function weight_add at 0x7c30d8486320>;, score=0.931 total time=   0.0s\n",
            "[CV 1/5] END metric=minkowski, n_neighbors=5, weights=uniform;, score=0.717 total time=   0.0s\n",
            "[CV 2/5] END metric=minkowski, n_neighbors=5, weights=uniform;, score=0.824 total time=   0.0s\n",
            "[CV 3/5] END metric=minkowski, n_neighbors=5, weights=uniform;, score=0.741 total time=   0.0s\n",
            "[CV 4/5] END metric=minkowski, n_neighbors=5, weights=uniform;, score=0.873 total time=   0.0s\n",
            "[CV 5/5] END metric=minkowski, n_neighbors=5, weights=uniform;, score=0.927 total time=   0.0s\n",
            "[CV 1/5] END metric=minkowski, n_neighbors=7, weights=distance;, score=0.755 total time=   0.0s\n",
            "[CV 2/5] END metric=minkowski, n_neighbors=7, weights=distance;, score=0.747 total time=   0.0s\n",
            "[CV 3/5] END metric=minkowski, n_neighbors=7, weights=distance;, score=0.733 total time=   0.0s\n",
            "[CV 4/5] END metric=minkowski, n_neighbors=7, weights=distance;, score=0.859 total time=   0.0s\n",
            "[CV 5/5] END metric=minkowski, n_neighbors=7, weights=distance;, score=0.928 total time=   0.0s\n",
            "[CV 1/5] END metric=minkowski, n_neighbors=12, weights=distance;, score=0.763 total time=   0.0s\n",
            "[CV 2/5] END metric=minkowski, n_neighbors=12, weights=distance;, score=0.751 total time=   0.0s\n",
            "[CV 3/5] END metric=minkowski, n_neighbors=12, weights=distance;, score=0.730 total time=   0.0s\n",
            "[CV 4/5] END metric=minkowski, n_neighbors=12, weights=distance;, score=0.876 total time=   0.0s\n",
            "[CV 5/5] END metric=minkowski, n_neighbors=12, weights=distance;, score=0.909 total time=   0.0s\n",
            "[CV 1/5] END metric=minkowski, n_neighbors=9, weights=uniform;, score=0.775 total time=   0.0s\n",
            "[CV 2/5] END metric=minkowski, n_neighbors=9, weights=uniform;, score=0.826 total time=   0.0s\n",
            "[CV 3/5] END metric=minkowski, n_neighbors=9, weights=uniform;, score=0.664 total time=   0.0s\n",
            "[CV 4/5] END metric=minkowski, n_neighbors=9, weights=uniform;, score=0.886 total time=   0.0s\n",
            "[CV 5/5] END metric=minkowski, n_neighbors=9, weights=uniform;, score=0.895 total time=   0.0s\n",
            "[CV 1/5] END metric=manhattan, n_neighbors=7, weights=<function weight_add at 0x7c30d8486320>;, score=0.737 total time=   0.0s\n",
            "[CV 2/5] END metric=manhattan, n_neighbors=7, weights=<function weight_add at 0x7c30d8486320>;, score=0.806 total time=   0.0s\n",
            "[CV 3/5] END metric=manhattan, n_neighbors=7, weights=<function weight_add at 0x7c30d8486320>;, score=0.725 total time=   0.0s\n",
            "[CV 4/5] END metric=manhattan, n_neighbors=7, weights=<function weight_add at 0x7c30d8486320>;, score=0.893 total time=   0.0s\n",
            "[CV 5/5] END metric=manhattan, n_neighbors=7, weights=<function weight_add at 0x7c30d8486320>;, score=0.945 total time=   0.0s\n",
            "[CV 1/5] END metric=chebyshev, n_neighbors=10, weights=distance;, score=0.764 total time=   0.0s\n",
            "[CV 2/5] END metric=chebyshev, n_neighbors=10, weights=distance;, score=0.752 total time=   0.0s\n",
            "[CV 3/5] END metric=chebyshev, n_neighbors=10, weights=distance;, score=0.712 total time=   0.0s\n",
            "[CV 4/5] END metric=chebyshev, n_neighbors=10, weights=distance;, score=0.874 total time=   0.0s\n",
            "[CV 5/5] END metric=chebyshev, n_neighbors=10, weights=distance;, score=0.919 total time=   0.0s\n",
            "[CV 1/5] END metric=chebyshev, n_neighbors=7, weights=distance;, score=0.755 total time=   0.0s\n",
            "[CV 2/5] END metric=chebyshev, n_neighbors=7, weights=distance;, score=0.747 total time=   0.0s\n",
            "[CV 3/5] END metric=chebyshev, n_neighbors=7, weights=distance;, score=0.733 total time=   0.0s\n",
            "[CV 4/5] END metric=chebyshev, n_neighbors=7, weights=distance;, score=0.859 total time=   0.0s\n",
            "[CV 5/5] END metric=chebyshev, n_neighbors=7, weights=distance;, score=0.928 total time=   0.0s\n",
            "[CV 1/5] END metric=minkowski, n_neighbors=10, weights=uniform;, score=0.792 total time=   0.0s\n",
            "[CV 2/5] END metric=minkowski, n_neighbors=10, weights=uniform;, score=0.820 total time=   0.0s\n",
            "[CV 3/5] END metric=minkowski, n_neighbors=10, weights=uniform;, score=0.633 total time=   0.0s\n",
            "[CV 4/5] END metric=minkowski, n_neighbors=10, weights=uniform;, score=0.910 total time=   0.0s\n",
            "[CV 5/5] END metric=minkowski, n_neighbors=10, weights=uniform;, score=0.885 total time=   0.0s\n"
          ]
        }
      ]
    },
    {
      "cell_type": "code",
      "source": [
        "\n",
        "kNN_search.best_estimator_"
      ],
      "metadata": {
        "colab": {
          "base_uri": "https://localhost:8080/",
          "height": 92
        },
        "id": "mF5OLdfZ1-BA",
        "outputId": "3a102905-1207-45f2-ce8e-fa70a06261ae"
      },
      "execution_count": 139,
      "outputs": [
        {
          "output_type": "execute_result",
          "data": {
            "text/plain": [
              "KNeighborsRegressor(n_neighbors=14,\n",
              "                    weights=<function weight_add at 0x7c30d8486320>)"
            ],
            "text/html": [
              "<style>#sk-container-id-11 {color: black;}#sk-container-id-11 pre{padding: 0;}#sk-container-id-11 div.sk-toggleable {background-color: white;}#sk-container-id-11 label.sk-toggleable__label {cursor: pointer;display: block;width: 100%;margin-bottom: 0;padding: 0.3em;box-sizing: border-box;text-align: center;}#sk-container-id-11 label.sk-toggleable__label-arrow:before {content: \"▸\";float: left;margin-right: 0.25em;color: #696969;}#sk-container-id-11 label.sk-toggleable__label-arrow:hover:before {color: black;}#sk-container-id-11 div.sk-estimator:hover label.sk-toggleable__label-arrow:before {color: black;}#sk-container-id-11 div.sk-toggleable__content {max-height: 0;max-width: 0;overflow: hidden;text-align: left;background-color: #f0f8ff;}#sk-container-id-11 div.sk-toggleable__content pre {margin: 0.2em;color: black;border-radius: 0.25em;background-color: #f0f8ff;}#sk-container-id-11 input.sk-toggleable__control:checked~div.sk-toggleable__content {max-height: 200px;max-width: 100%;overflow: auto;}#sk-container-id-11 input.sk-toggleable__control:checked~label.sk-toggleable__label-arrow:before {content: \"▾\";}#sk-container-id-11 div.sk-estimator input.sk-toggleable__control:checked~label.sk-toggleable__label {background-color: #d4ebff;}#sk-container-id-11 div.sk-label input.sk-toggleable__control:checked~label.sk-toggleable__label {background-color: #d4ebff;}#sk-container-id-11 input.sk-hidden--visually {border: 0;clip: rect(1px 1px 1px 1px);clip: rect(1px, 1px, 1px, 1px);height: 1px;margin: -1px;overflow: hidden;padding: 0;position: absolute;width: 1px;}#sk-container-id-11 div.sk-estimator {font-family: monospace;background-color: #f0f8ff;border: 1px dotted black;border-radius: 0.25em;box-sizing: border-box;margin-bottom: 0.5em;}#sk-container-id-11 div.sk-estimator:hover {background-color: #d4ebff;}#sk-container-id-11 div.sk-parallel-item::after {content: \"\";width: 100%;border-bottom: 1px solid gray;flex-grow: 1;}#sk-container-id-11 div.sk-label:hover label.sk-toggleable__label {background-color: #d4ebff;}#sk-container-id-11 div.sk-serial::before {content: \"\";position: absolute;border-left: 1px solid gray;box-sizing: border-box;top: 0;bottom: 0;left: 50%;z-index: 0;}#sk-container-id-11 div.sk-serial {display: flex;flex-direction: column;align-items: center;background-color: white;padding-right: 0.2em;padding-left: 0.2em;position: relative;}#sk-container-id-11 div.sk-item {position: relative;z-index: 1;}#sk-container-id-11 div.sk-parallel {display: flex;align-items: stretch;justify-content: center;background-color: white;position: relative;}#sk-container-id-11 div.sk-item::before, #sk-container-id-11 div.sk-parallel-item::before {content: \"\";position: absolute;border-left: 1px solid gray;box-sizing: border-box;top: 0;bottom: 0;left: 50%;z-index: -1;}#sk-container-id-11 div.sk-parallel-item {display: flex;flex-direction: column;z-index: 1;position: relative;background-color: white;}#sk-container-id-11 div.sk-parallel-item:first-child::after {align-self: flex-end;width: 50%;}#sk-container-id-11 div.sk-parallel-item:last-child::after {align-self: flex-start;width: 50%;}#sk-container-id-11 div.sk-parallel-item:only-child::after {width: 0;}#sk-container-id-11 div.sk-dashed-wrapped {border: 1px dashed gray;margin: 0 0.4em 0.5em 0.4em;box-sizing: border-box;padding-bottom: 0.4em;background-color: white;}#sk-container-id-11 div.sk-label label {font-family: monospace;font-weight: bold;display: inline-block;line-height: 1.2em;}#sk-container-id-11 div.sk-label-container {text-align: center;}#sk-container-id-11 div.sk-container {/* jupyter's `normalize.less` sets `[hidden] { display: none; }` but bootstrap.min.css set `[hidden] { display: none !important; }` so we also need the `!important` here to be able to override the default hidden behavior on the sphinx rendered scikit-learn.org. See: https://github.com/scikit-learn/scikit-learn/issues/21755 */display: inline-block !important;position: relative;}#sk-container-id-11 div.sk-text-repr-fallback {display: none;}</style><div id=\"sk-container-id-11\" class=\"sk-top-container\"><div class=\"sk-text-repr-fallback\"><pre>KNeighborsRegressor(n_neighbors=14,\n",
              "                    weights=&lt;function weight_add at 0x7c30d8486320&gt;)</pre><b>In a Jupyter environment, please rerun this cell to show the HTML representation or trust the notebook. <br />On GitHub, the HTML representation is unable to render, please try loading this page with nbviewer.org.</b></div><div class=\"sk-container\" hidden><div class=\"sk-item\"><div class=\"sk-estimator sk-toggleable\"><input class=\"sk-toggleable__control sk-hidden--visually\" id=\"sk-estimator-id-11\" type=\"checkbox\" checked><label for=\"sk-estimator-id-11\" class=\"sk-toggleable__label sk-toggleable__label-arrow\">KNeighborsRegressor</label><div class=\"sk-toggleable__content\"><pre>KNeighborsRegressor(n_neighbors=14,\n",
              "                    weights=&lt;function weight_add at 0x7c30d8486320&gt;)</pre></div></div></div></div></div>"
            ]
          },
          "metadata": {},
          "execution_count": 139
        }
      ]
    },
    {
      "cell_type": "code",
      "source": [
        "y_predict=kNN_search.best_estimator_.predict(X_test)\n",
        "print('R2 : %.4f' %  r2_score(y_test,y_predict,))"
      ],
      "metadata": {
        "colab": {
          "base_uri": "https://localhost:8080/"
        },
        "id": "zUEKLqqt2HjC",
        "outputId": "aa12f69b-09f8-4822-812e-78ff7f319aae"
      },
      "execution_count": 140,
      "outputs": [
        {
          "output_type": "stream",
          "name": "stdout",
          "text": [
            "R2 : 0.7755\n"
          ]
        }
      ]
    },
    {
      "cell_type": "code",
      "source": [
        "\n",
        "DF_reg=pd.DataFrame(kNN_search.cv_results_)\n",
        "DF = DF_reg[['param_n_neighbors','param_weights',\n",
        "             'mean_test_score', 'std_test_score', 'rank_test_score']]\n",
        "cm = sns.light_palette(\"purple\", as_cmap=True)\n",
        "hl = DF.sort_values(by = 'rank_test_score').style.background_gradient(cmap=cm)\n",
        "hl\n",
        ""
      ],
      "metadata": {
        "colab": {
          "base_uri": "https://localhost:8080/",
          "height": 363
        },
        "id": "k8AtMOFp2Bcn",
        "outputId": "0acae7d5-94d7-4cbc-da97-bab17812d8b9"
      },
      "execution_count": 141,
      "outputs": [
        {
          "output_type": "execute_result",
          "data": {
            "text/plain": [
              "<pandas.io.formats.style.Styler at 0x7c30d8340b50>"
            ],
            "text/html": [
              "<style type=\"text/css\">\n",
              "#T_ee074_row0_col2, #T_ee074_row5_col3, #T_ee074_row9_col4 {\n",
              "  background-color: #800080;\n",
              "  color: #f1f1f1;\n",
              "}\n",
              "#T_ee074_row0_col3 {\n",
              "  background-color: #cda2cd;\n",
              "  color: #000000;\n",
              "}\n",
              "#T_ee074_row0_col4, #T_ee074_row3_col3, #T_ee074_row9_col2 {\n",
              "  background-color: #f3f0f3;\n",
              "  color: #000000;\n",
              "}\n",
              "#T_ee074_row1_col2 {\n",
              "  background-color: #a44ba4;\n",
              "  color: #f1f1f1;\n",
              "}\n",
              "#T_ee074_row1_col3 {\n",
              "  background-color: #ad5dad;\n",
              "  color: #f1f1f1;\n",
              "}\n",
              "#T_ee074_row1_col4 {\n",
              "  background-color: #e6d5e6;\n",
              "  color: #000000;\n",
              "}\n",
              "#T_ee074_row2_col2 {\n",
              "  background-color: #bb7bbb;\n",
              "  color: #f1f1f1;\n",
              "}\n",
              "#T_ee074_row2_col3 {\n",
              "  background-color: #c897c8;\n",
              "  color: #f1f1f1;\n",
              "}\n",
              "#T_ee074_row2_col4 {\n",
              "  background-color: #dabbda;\n",
              "  color: #000000;\n",
              "}\n",
              "#T_ee074_row3_col2 {\n",
              "  background-color: #d6b4d6;\n",
              "  color: #000000;\n",
              "}\n",
              "#T_ee074_row3_col4 {\n",
              "  background-color: #cda0cd;\n",
              "  color: #000000;\n",
              "}\n",
              "#T_ee074_row4_col2 {\n",
              "  background-color: #dbbfdb;\n",
              "  color: #000000;\n",
              "}\n",
              "#T_ee074_row4_col3 {\n",
              "  background-color: #b268b2;\n",
              "  color: #f1f1f1;\n",
              "}\n",
              "#T_ee074_row4_col4 {\n",
              "  background-color: #c085c0;\n",
              "  color: #f1f1f1;\n",
              "}\n",
              "#T_ee074_row5_col2 {\n",
              "  background-color: #e1cbe1;\n",
              "  color: #000000;\n",
              "}\n",
              "#T_ee074_row5_col4 {\n",
              "  background-color: #b36ab3;\n",
              "  color: #f1f1f1;\n",
              "}\n",
              "#T_ee074_row6_col2 {\n",
              "  background-color: #ece1ec;\n",
              "  color: #000000;\n",
              "}\n",
              "#T_ee074_row6_col3 {\n",
              "  background-color: #e2cde2;\n",
              "  color: #000000;\n",
              "}\n",
              "#T_ee074_row6_col4 {\n",
              "  background-color: #a650a6;\n",
              "  color: #f1f1f1;\n",
              "}\n",
              "#T_ee074_row7_col2, #T_ee074_row8_col2 {\n",
              "  background-color: #f2eef2;\n",
              "  color: #000000;\n",
              "}\n",
              "#T_ee074_row7_col3, #T_ee074_row8_col3 {\n",
              "  background-color: #d2acd2;\n",
              "  color: #000000;\n",
              "}\n",
              "#T_ee074_row7_col4, #T_ee074_row8_col4 {\n",
              "  background-color: #993599;\n",
              "  color: #f1f1f1;\n",
              "}\n",
              "#T_ee074_row9_col3 {\n",
              "  background-color: #ca9bca;\n",
              "  color: #f1f1f1;\n",
              "}\n",
              "</style>\n",
              "<table id=\"T_ee074\" class=\"dataframe\">\n",
              "  <thead>\n",
              "    <tr>\n",
              "      <th class=\"blank level0\" >&nbsp;</th>\n",
              "      <th id=\"T_ee074_level0_col0\" class=\"col_heading level0 col0\" >param_n_neighbors</th>\n",
              "      <th id=\"T_ee074_level0_col1\" class=\"col_heading level0 col1\" >param_weights</th>\n",
              "      <th id=\"T_ee074_level0_col2\" class=\"col_heading level0 col2\" >mean_test_score</th>\n",
              "      <th id=\"T_ee074_level0_col3\" class=\"col_heading level0 col3\" >std_test_score</th>\n",
              "      <th id=\"T_ee074_level0_col4\" class=\"col_heading level0 col4\" >rank_test_score</th>\n",
              "    </tr>\n",
              "  </thead>\n",
              "  <tbody>\n",
              "    <tr>\n",
              "      <th id=\"T_ee074_level0_row0\" class=\"row_heading level0 row0\" >1</th>\n",
              "      <td id=\"T_ee074_row0_col0\" class=\"data row0 col0\" >14</td>\n",
              "      <td id=\"T_ee074_row0_col1\" class=\"data row0 col1\" ><function weight_add at 0x7c30d8486320></td>\n",
              "      <td id=\"T_ee074_row0_col2\" class=\"data row0 col2\" >0.829060</td>\n",
              "      <td id=\"T_ee074_row0_col3\" class=\"data row0 col3\" >0.077657</td>\n",
              "      <td id=\"T_ee074_row0_col4\" class=\"data row0 col4\" >1</td>\n",
              "    </tr>\n",
              "    <tr>\n",
              "      <th id=\"T_ee074_level0_row1\" class=\"row_heading level0 row1\" >6</th>\n",
              "      <td id=\"T_ee074_row1_col0\" class=\"data row1 col0\" >7</td>\n",
              "      <td id=\"T_ee074_row1_col1\" class=\"data row1 col1\" ><function weight_add at 0x7c30d8486320></td>\n",
              "      <td id=\"T_ee074_row1_col2\" class=\"data row1 col2\" >0.821242</td>\n",
              "      <td id=\"T_ee074_row1_col3\" class=\"data row1 col3\" >0.085980</td>\n",
              "      <td id=\"T_ee074_row1_col4\" class=\"data row1 col4\" >2</td>\n",
              "    </tr>\n",
              "    <tr>\n",
              "      <th id=\"T_ee074_level0_row2\" class=\"row_heading level0 row2\" >2</th>\n",
              "      <td id=\"T_ee074_row2_col0\" class=\"data row2 col0\" >5</td>\n",
              "      <td id=\"T_ee074_row2_col1\" class=\"data row2 col1\" >uniform</td>\n",
              "      <td id=\"T_ee074_row2_col2\" class=\"data row2 col2\" >0.816258</td>\n",
              "      <td id=\"T_ee074_row2_col3\" class=\"data row2 col3\" >0.078914</td>\n",
              "      <td id=\"T_ee074_row2_col4\" class=\"data row2 col4\" >3</td>\n",
              "    </tr>\n",
              "    <tr>\n",
              "      <th id=\"T_ee074_level0_row3\" class=\"row_heading level0 row3\" >0</th>\n",
              "      <td id=\"T_ee074_row3_col0\" class=\"data row3 col0\" >14</td>\n",
              "      <td id=\"T_ee074_row3_col1\" class=\"data row3 col1\" >distance</td>\n",
              "      <td id=\"T_ee074_row3_col2\" class=\"data row3 col2\" >0.810301</td>\n",
              "      <td id=\"T_ee074_row3_col3\" class=\"data row3 col3\" >0.068095</td>\n",
              "      <td id=\"T_ee074_row3_col4\" class=\"data row3 col4\" >4</td>\n",
              "    </tr>\n",
              "    <tr>\n",
              "      <th id=\"T_ee074_level0_row4\" class=\"row_heading level0 row4\" >5</th>\n",
              "      <td id=\"T_ee074_row4_col0\" class=\"data row4 col0\" >9</td>\n",
              "      <td id=\"T_ee074_row4_col1\" class=\"data row4 col1\" >uniform</td>\n",
              "      <td id=\"T_ee074_row4_col2\" class=\"data row4 col2\" >0.809231</td>\n",
              "      <td id=\"T_ee074_row4_col3\" class=\"data row4 col3\" >0.084606</td>\n",
              "      <td id=\"T_ee074_row4_col4\" class=\"data row4 col4\" >5</td>\n",
              "    </tr>\n",
              "    <tr>\n",
              "      <th id=\"T_ee074_level0_row5\" class=\"row_heading level0 row5\" >9</th>\n",
              "      <td id=\"T_ee074_row5_col0\" class=\"data row5 col0\" >10</td>\n",
              "      <td id=\"T_ee074_row5_col1\" class=\"data row5 col1\" >uniform</td>\n",
              "      <td id=\"T_ee074_row5_col2\" class=\"data row5 col2\" >0.807943</td>\n",
              "      <td id=\"T_ee074_row5_col3\" class=\"data row5 col3\" >0.097404</td>\n",
              "      <td id=\"T_ee074_row5_col4\" class=\"data row5 col4\" >6</td>\n",
              "    </tr>\n",
              "    <tr>\n",
              "      <th id=\"T_ee074_level0_row6\" class=\"row_heading level0 row6\" >4</th>\n",
              "      <td id=\"T_ee074_row6_col0\" class=\"data row6 col0\" >12</td>\n",
              "      <td id=\"T_ee074_row6_col1\" class=\"data row6 col1\" >distance</td>\n",
              "      <td id=\"T_ee074_row6_col2\" class=\"data row6 col2\" >0.805735</td>\n",
              "      <td id=\"T_ee074_row6_col3\" class=\"data row6 col3\" >0.072420</td>\n",
              "      <td id=\"T_ee074_row6_col4\" class=\"data row6 col4\" >7</td>\n",
              "    </tr>\n",
              "    <tr>\n",
              "      <th id=\"T_ee074_level0_row7\" class=\"row_heading level0 row7\" >3</th>\n",
              "      <td id=\"T_ee074_row7_col0\" class=\"data row7 col0\" >7</td>\n",
              "      <td id=\"T_ee074_row7_col1\" class=\"data row7 col1\" >distance</td>\n",
              "      <td id=\"T_ee074_row7_col2\" class=\"data row7 col2\" >0.804345</td>\n",
              "      <td id=\"T_ee074_row7_col3\" class=\"data row7 col3\" >0.076411</td>\n",
              "      <td id=\"T_ee074_row7_col4\" class=\"data row7 col4\" >8</td>\n",
              "    </tr>\n",
              "    <tr>\n",
              "      <th id=\"T_ee074_level0_row8\" class=\"row_heading level0 row8\" >8</th>\n",
              "      <td id=\"T_ee074_row8_col0\" class=\"data row8 col0\" >7</td>\n",
              "      <td id=\"T_ee074_row8_col1\" class=\"data row8 col1\" >distance</td>\n",
              "      <td id=\"T_ee074_row8_col2\" class=\"data row8 col2\" >0.804345</td>\n",
              "      <td id=\"T_ee074_row8_col3\" class=\"data row8 col3\" >0.076411</td>\n",
              "      <td id=\"T_ee074_row8_col4\" class=\"data row8 col4\" >8</td>\n",
              "    </tr>\n",
              "    <tr>\n",
              "      <th id=\"T_ee074_level0_row9\" class=\"row_heading level0 row9\" >7</th>\n",
              "      <td id=\"T_ee074_row9_col0\" class=\"data row9 col0\" >10</td>\n",
              "      <td id=\"T_ee074_row9_col1\" class=\"data row9 col1\" >distance</td>\n",
              "      <td id=\"T_ee074_row9_col2\" class=\"data row9 col2\" >0.804136</td>\n",
              "      <td id=\"T_ee074_row9_col3\" class=\"data row9 col3\" >0.078477</td>\n",
              "      <td id=\"T_ee074_row9_col4\" class=\"data row9 col4\" >10</td>\n",
              "    </tr>\n",
              "  </tbody>\n",
              "</table>\n"
            ]
          },
          "metadata": {},
          "execution_count": 141
        }
      ]
    }
  ]
}